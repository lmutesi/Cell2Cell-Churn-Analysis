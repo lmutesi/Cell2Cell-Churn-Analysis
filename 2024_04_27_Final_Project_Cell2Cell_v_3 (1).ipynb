{
  "cells": [
    {
      "cell_type": "code",
      "execution_count": null,
      "id": "a9344d88",
      "metadata": {
        "id": "a9344d88"
      },
      "outputs": [],
      "source": [
        "import shared.mba263 as mba263\n",
        "import pandas\n",
        "import matplotlib.pyplot as plt"
      ]
    },
    {
      "cell_type": "code",
      "execution_count": null,
      "id": "94bdc88e",
      "metadata": {
        "id": "94bdc88e"
      },
      "outputs": [],
      "source": [
        "import numpy"
      ]
    },
    {
      "cell_type": "code",
      "execution_count": null,
      "id": "20819d38",
      "metadata": {
        "id": "20819d38"
      },
      "outputs": [],
      "source": [
        "data = pandas.read_csv('cell2cell (2).csv')"
      ]
    },
    {
      "cell_type": "code",
      "execution_count": null,
      "id": "4ad446c9",
      "metadata": {
        "id": "4ad446c9",
        "outputId": "9c70d5ff-2d1e-4291-dcb9-75d7784b85e4",
        "scrolled": false
      },
      "outputs": [
        {
          "data": {
            "text/html": [
              "<div>\n",
              "<style scoped>\n",
              "    .dataframe tbody tr th:only-of-type {\n",
              "        vertical-align: middle;\n",
              "    }\n",
              "\n",
              "    .dataframe tbody tr th {\n",
              "        vertical-align: top;\n",
              "    }\n",
              "\n",
              "    .dataframe thead th {\n",
              "        text-align: right;\n",
              "    }\n",
              "</style>\n",
              "<table border=\"1\" class=\"dataframe\">\n",
              "  <thead>\n",
              "    <tr style=\"text-align: right;\">\n",
              "      <th></th>\n",
              "      <th>customer</th>\n",
              "      <th>calibrat</th>\n",
              "      <th>churn</th>\n",
              "      <th>churndep</th>\n",
              "      <th>revenue</th>\n",
              "      <th>mou</th>\n",
              "      <th>recchrge</th>\n",
              "      <th>directas</th>\n",
              "      <th>overage</th>\n",
              "      <th>roam</th>\n",
              "      <th>...</th>\n",
              "      <th>retaccpt</th>\n",
              "      <th>newcelly</th>\n",
              "      <th>newcelln</th>\n",
              "      <th>refer</th>\n",
              "      <th>incmiss</th>\n",
              "      <th>income</th>\n",
              "      <th>mcycle</th>\n",
              "      <th>setprcm</th>\n",
              "      <th>setprc</th>\n",
              "      <th>retcall</th>\n",
              "    </tr>\n",
              "  </thead>\n",
              "  <tbody>\n",
              "    <tr>\n",
              "      <th>0</th>\n",
              "      <td>1000002</td>\n",
              "      <td>0</td>\n",
              "      <td>0</td>\n",
              "      <td>NaN</td>\n",
              "      <td>57.492500</td>\n",
              "      <td>482.75</td>\n",
              "      <td>37.424999</td>\n",
              "      <td>0.2475</td>\n",
              "      <td>22.75</td>\n",
              "      <td>0.0</td>\n",
              "      <td>...</td>\n",
              "      <td>0</td>\n",
              "      <td>0</td>\n",
              "      <td>1</td>\n",
              "      <td>0</td>\n",
              "      <td>0</td>\n",
              "      <td>5</td>\n",
              "      <td>0</td>\n",
              "      <td>0</td>\n",
              "      <td>149.989990</td>\n",
              "      <td>0</td>\n",
              "    </tr>\n",
              "    <tr>\n",
              "      <th>1</th>\n",
              "      <td>1000006</td>\n",
              "      <td>0</td>\n",
              "      <td>0</td>\n",
              "      <td>NaN</td>\n",
              "      <td>82.275002</td>\n",
              "      <td>1312.25</td>\n",
              "      <td>75.000000</td>\n",
              "      <td>1.2375</td>\n",
              "      <td>0.00</td>\n",
              "      <td>0.0</td>\n",
              "      <td>...</td>\n",
              "      <td>0</td>\n",
              "      <td>1</td>\n",
              "      <td>0</td>\n",
              "      <td>0</td>\n",
              "      <td>0</td>\n",
              "      <td>6</td>\n",
              "      <td>0</td>\n",
              "      <td>0</td>\n",
              "      <td>9.989998</td>\n",
              "      <td>0</td>\n",
              "    </tr>\n",
              "    <tr>\n",
              "      <th>2</th>\n",
              "      <td>1000010</td>\n",
              "      <td>0</td>\n",
              "      <td>0</td>\n",
              "      <td>NaN</td>\n",
              "      <td>31.662500</td>\n",
              "      <td>25.50</td>\n",
              "      <td>29.990000</td>\n",
              "      <td>0.2475</td>\n",
              "      <td>0.00</td>\n",
              "      <td>0.0</td>\n",
              "      <td>...</td>\n",
              "      <td>0</td>\n",
              "      <td>0</td>\n",
              "      <td>1</td>\n",
              "      <td>0</td>\n",
              "      <td>0</td>\n",
              "      <td>9</td>\n",
              "      <td>0</td>\n",
              "      <td>0</td>\n",
              "      <td>29.989990</td>\n",
              "      <td>0</td>\n",
              "    </tr>\n",
              "    <tr>\n",
              "      <th>3</th>\n",
              "      <td>1000011</td>\n",
              "      <td>0</td>\n",
              "      <td>0</td>\n",
              "      <td>NaN</td>\n",
              "      <td>62.127499</td>\n",
              "      <td>97.50</td>\n",
              "      <td>65.985001</td>\n",
              "      <td>2.4750</td>\n",
              "      <td>0.00</td>\n",
              "      <td>0.0</td>\n",
              "      <td>...</td>\n",
              "      <td>0</td>\n",
              "      <td>1</td>\n",
              "      <td>0</td>\n",
              "      <td>0</td>\n",
              "      <td>0</td>\n",
              "      <td>6</td>\n",
              "      <td>0</td>\n",
              "      <td>0</td>\n",
              "      <td>29.989990</td>\n",
              "      <td>0</td>\n",
              "    </tr>\n",
              "    <tr>\n",
              "      <th>4</th>\n",
              "      <td>1000014</td>\n",
              "      <td>0</td>\n",
              "      <td>0</td>\n",
              "      <td>NaN</td>\n",
              "      <td>25.225000</td>\n",
              "      <td>2.50</td>\n",
              "      <td>25.000000</td>\n",
              "      <td>0.0000</td>\n",
              "      <td>0.00</td>\n",
              "      <td>0.0</td>\n",
              "      <td>...</td>\n",
              "      <td>0</td>\n",
              "      <td>1</td>\n",
              "      <td>0</td>\n",
              "      <td>0</td>\n",
              "      <td>0</td>\n",
              "      <td>7</td>\n",
              "      <td>0</td>\n",
              "      <td>0</td>\n",
              "      <td>29.989990</td>\n",
              "      <td>0</td>\n",
              "    </tr>\n",
              "    <tr>\n",
              "      <th>...</th>\n",
              "      <td>...</td>\n",
              "      <td>...</td>\n",
              "      <td>...</td>\n",
              "      <td>...</td>\n",
              "      <td>...</td>\n",
              "      <td>...</td>\n",
              "      <td>...</td>\n",
              "      <td>...</td>\n",
              "      <td>...</td>\n",
              "      <td>...</td>\n",
              "      <td>...</td>\n",
              "      <td>...</td>\n",
              "      <td>...</td>\n",
              "      <td>...</td>\n",
              "      <td>...</td>\n",
              "      <td>...</td>\n",
              "      <td>...</td>\n",
              "      <td>...</td>\n",
              "      <td>...</td>\n",
              "      <td>...</td>\n",
              "      <td>...</td>\n",
              "    </tr>\n",
              "    <tr>\n",
              "      <th>71042</th>\n",
              "      <td>1099987</td>\n",
              "      <td>1</td>\n",
              "      <td>1</td>\n",
              "      <td>1.0</td>\n",
              "      <td>117.490000</td>\n",
              "      <td>384.00</td>\n",
              "      <td>29.990000</td>\n",
              "      <td>0.0000</td>\n",
              "      <td>250.00</td>\n",
              "      <td>0.0</td>\n",
              "      <td>...</td>\n",
              "      <td>0</td>\n",
              "      <td>0</td>\n",
              "      <td>0</td>\n",
              "      <td>0</td>\n",
              "      <td>0</td>\n",
              "      <td>2</td>\n",
              "      <td>0</td>\n",
              "      <td>0</td>\n",
              "      <td>29.989990</td>\n",
              "      <td>0</td>\n",
              "    </tr>\n",
              "    <tr>\n",
              "      <th>71043</th>\n",
              "      <td>1099988</td>\n",
              "      <td>1</td>\n",
              "      <td>1</td>\n",
              "      <td>1.0</td>\n",
              "      <td>NaN</td>\n",
              "      <td>NaN</td>\n",
              "      <td>NaN</td>\n",
              "      <td>NaN</td>\n",
              "      <td>NaN</td>\n",
              "      <td>NaN</td>\n",
              "      <td>...</td>\n",
              "      <td>0</td>\n",
              "      <td>0</td>\n",
              "      <td>0</td>\n",
              "      <td>0</td>\n",
              "      <td>0</td>\n",
              "      <td>6</td>\n",
              "      <td>0</td>\n",
              "      <td>1</td>\n",
              "      <td>0.000000</td>\n",
              "      <td>0</td>\n",
              "    </tr>\n",
              "    <tr>\n",
              "      <th>71044</th>\n",
              "      <td>1099990</td>\n",
              "      <td>1</td>\n",
              "      <td>1</td>\n",
              "      <td>1.0</td>\n",
              "      <td>NaN</td>\n",
              "      <td>NaN</td>\n",
              "      <td>NaN</td>\n",
              "      <td>NaN</td>\n",
              "      <td>NaN</td>\n",
              "      <td>NaN</td>\n",
              "      <td>...</td>\n",
              "      <td>0</td>\n",
              "      <td>0</td>\n",
              "      <td>0</td>\n",
              "      <td>0</td>\n",
              "      <td>0</td>\n",
              "      <td>6</td>\n",
              "      <td>0</td>\n",
              "      <td>0</td>\n",
              "      <td>59.989990</td>\n",
              "      <td>0</td>\n",
              "    </tr>\n",
              "    <tr>\n",
              "      <th>71045</th>\n",
              "      <td>1099992</td>\n",
              "      <td>1</td>\n",
              "      <td>1</td>\n",
              "      <td>1.0</td>\n",
              "      <td>NaN</td>\n",
              "      <td>NaN</td>\n",
              "      <td>NaN</td>\n",
              "      <td>NaN</td>\n",
              "      <td>NaN</td>\n",
              "      <td>NaN</td>\n",
              "      <td>...</td>\n",
              "      <td>0</td>\n",
              "      <td>1</td>\n",
              "      <td>0</td>\n",
              "      <td>0</td>\n",
              "      <td>0</td>\n",
              "      <td>8</td>\n",
              "      <td>0</td>\n",
              "      <td>1</td>\n",
              "      <td>0.000000</td>\n",
              "      <td>0</td>\n",
              "    </tr>\n",
              "    <tr>\n",
              "      <th>71046</th>\n",
              "      <td>1099995</td>\n",
              "      <td>1</td>\n",
              "      <td>1</td>\n",
              "      <td>1.0</td>\n",
              "      <td>NaN</td>\n",
              "      <td>NaN</td>\n",
              "      <td>NaN</td>\n",
              "      <td>NaN</td>\n",
              "      <td>NaN</td>\n",
              "      <td>NaN</td>\n",
              "      <td>...</td>\n",
              "      <td>0</td>\n",
              "      <td>0</td>\n",
              "      <td>0</td>\n",
              "      <td>0</td>\n",
              "      <td>0</td>\n",
              "      <td>7</td>\n",
              "      <td>0</td>\n",
              "      <td>0</td>\n",
              "      <td>79.989990</td>\n",
              "      <td>0</td>\n",
              "    </tr>\n",
              "  </tbody>\n",
              "</table>\n",
              "<p>71047 rows × 70 columns</p>\n",
              "</div>"
            ],
            "text/plain": [
              "       customer  calibrat  churn  churndep     revenue      mou   recchrge  \\\n",
              "0       1000002         0      0       NaN   57.492500   482.75  37.424999   \n",
              "1       1000006         0      0       NaN   82.275002  1312.25  75.000000   \n",
              "2       1000010         0      0       NaN   31.662500    25.50  29.990000   \n",
              "3       1000011         0      0       NaN   62.127499    97.50  65.985001   \n",
              "4       1000014         0      0       NaN   25.225000     2.50  25.000000   \n",
              "...         ...       ...    ...       ...         ...      ...        ...   \n",
              "71042   1099987         1      1       1.0  117.490000   384.00  29.990000   \n",
              "71043   1099988         1      1       1.0         NaN      NaN        NaN   \n",
              "71044   1099990         1      1       1.0         NaN      NaN        NaN   \n",
              "71045   1099992         1      1       1.0         NaN      NaN        NaN   \n",
              "71046   1099995         1      1       1.0         NaN      NaN        NaN   \n",
              "\n",
              "       directas  overage  roam  ...  retaccpt  newcelly  newcelln  refer  \\\n",
              "0        0.2475    22.75   0.0  ...         0         0         1      0   \n",
              "1        1.2375     0.00   0.0  ...         0         1         0      0   \n",
              "2        0.2475     0.00   0.0  ...         0         0         1      0   \n",
              "3        2.4750     0.00   0.0  ...         0         1         0      0   \n",
              "4        0.0000     0.00   0.0  ...         0         1         0      0   \n",
              "...         ...      ...   ...  ...       ...       ...       ...    ...   \n",
              "71042    0.0000   250.00   0.0  ...         0         0         0      0   \n",
              "71043       NaN      NaN   NaN  ...         0         0         0      0   \n",
              "71044       NaN      NaN   NaN  ...         0         0         0      0   \n",
              "71045       NaN      NaN   NaN  ...         0         1         0      0   \n",
              "71046       NaN      NaN   NaN  ...         0         0         0      0   \n",
              "\n",
              "       incmiss  income  mcycle  setprcm      setprc  retcall  \n",
              "0            0       5       0        0  149.989990        0  \n",
              "1            0       6       0        0    9.989998        0  \n",
              "2            0       9       0        0   29.989990        0  \n",
              "3            0       6       0        0   29.989990        0  \n",
              "4            0       7       0        0   29.989990        0  \n",
              "...        ...     ...     ...      ...         ...      ...  \n",
              "71042        0       2       0        0   29.989990        0  \n",
              "71043        0       6       0        1    0.000000        0  \n",
              "71044        0       6       0        0   59.989990        0  \n",
              "71045        0       8       0        1    0.000000        0  \n",
              "71046        0       7       0        0   79.989990        0  \n",
              "\n",
              "[71047 rows x 70 columns]"
            ]
          },
          "execution_count": 7,
          "metadata": {},
          "output_type": "execute_result"
        }
      ],
      "source": [
        "data"
      ]
    },
    {
      "cell_type": "code",
      "execution_count": null,
      "id": "ee7d83e2",
      "metadata": {
        "id": "ee7d83e2",
        "outputId": "e48a3701-e655-42a7-bf09-e820b360f958"
      },
      "outputs": [
        {
          "data": {
            "text/html": [
              "<div>\n",
              "<style scoped>\n",
              "    .dataframe tbody tr th:only-of-type {\n",
              "        vertical-align: middle;\n",
              "    }\n",
              "\n",
              "    .dataframe tbody tr th {\n",
              "        vertical-align: top;\n",
              "    }\n",
              "\n",
              "    .dataframe thead th {\n",
              "        text-align: right;\n",
              "    }\n",
              "</style>\n",
              "<table border=\"1\" class=\"dataframe\">\n",
              "  <thead>\n",
              "    <tr style=\"text-align: right;\">\n",
              "      <th></th>\n",
              "      <th>Name</th>\n",
              "      <th>Count</th>\n",
              "      <th>Frequency</th>\n",
              "    </tr>\n",
              "  </thead>\n",
              "  <tbody>\n",
              "    <tr>\n",
              "      <th>0</th>\n",
              "      <td>0</td>\n",
              "      <td>31047</td>\n",
              "      <td>0.436992</td>\n",
              "    </tr>\n",
              "    <tr>\n",
              "      <th>1</th>\n",
              "      <td>1</td>\n",
              "      <td>40000</td>\n",
              "      <td>0.563008</td>\n",
              "    </tr>\n",
              "  </tbody>\n",
              "</table>\n",
              "</div>"
            ],
            "text/plain": [
              "   Name  Count  Frequency\n",
              "0     0  31047   0.436992\n",
              "1     1  40000   0.563008"
            ]
          },
          "execution_count": 8,
          "metadata": {},
          "output_type": "execute_result"
        }
      ],
      "source": [
        "mba263.tabulate(data['calibrat'])"
      ]
    },
    {
      "cell_type": "code",
      "execution_count": null,
      "id": "8ac81d4a",
      "metadata": {
        "id": "8ac81d4a",
        "outputId": "8ead743d-2a3f-48e6-ef15-0b1f5a756c5b"
      },
      "outputs": [
        {
          "data": {
            "text/html": [
              "<div>\n",
              "<style scoped>\n",
              "    .dataframe tbody tr th:only-of-type {\n",
              "        vertical-align: middle;\n",
              "    }\n",
              "\n",
              "    .dataframe tbody tr th {\n",
              "        vertical-align: top;\n",
              "    }\n",
              "\n",
              "    .dataframe thead th {\n",
              "        text-align: right;\n",
              "    }\n",
              "</style>\n",
              "<table border=\"1\" class=\"dataframe\">\n",
              "  <thead>\n",
              "    <tr style=\"text-align: right;\">\n",
              "      <th></th>\n",
              "      <th>Name</th>\n",
              "      <th>Count</th>\n",
              "      <th>Frequency</th>\n",
              "    </tr>\n",
              "  </thead>\n",
              "  <tbody>\n",
              "    <tr>\n",
              "      <th>0</th>\n",
              "      <td>0</td>\n",
              "      <td>50438</td>\n",
              "      <td>0.709924</td>\n",
              "    </tr>\n",
              "    <tr>\n",
              "      <th>1</th>\n",
              "      <td>1</td>\n",
              "      <td>20609</td>\n",
              "      <td>0.290076</td>\n",
              "    </tr>\n",
              "  </tbody>\n",
              "</table>\n",
              "</div>"
            ],
            "text/plain": [
              "   Name  Count  Frequency\n",
              "0     0  50438   0.709924\n",
              "1     1  20609   0.290076"
            ]
          },
          "execution_count": 9,
          "metadata": {},
          "output_type": "execute_result"
        }
      ],
      "source": [
        "mba263.tabulate(data['churn'])"
      ]
    },
    {
      "cell_type": "code",
      "execution_count": null,
      "id": "9ad0bc47",
      "metadata": {
        "id": "9ad0bc47",
        "outputId": "8a4cd4c6-11e4-44e2-a068-6fdf904d9541"
      },
      "outputs": [
        {
          "data": {
            "text/html": [
              "<div>\n",
              "<style scoped>\n",
              "    .dataframe tbody tr th:only-of-type {\n",
              "        vertical-align: middle;\n",
              "    }\n",
              "\n",
              "    .dataframe tbody tr th {\n",
              "        vertical-align: top;\n",
              "    }\n",
              "\n",
              "    .dataframe thead th {\n",
              "        text-align: right;\n",
              "    }\n",
              "</style>\n",
              "<table border=\"1\" class=\"dataframe\">\n",
              "  <thead>\n",
              "    <tr style=\"text-align: right;\">\n",
              "      <th></th>\n",
              "      <th>Name</th>\n",
              "      <th>Count</th>\n",
              "      <th>Frequency</th>\n",
              "    </tr>\n",
              "  </thead>\n",
              "  <tbody>\n",
              "    <tr>\n",
              "      <th>31047</th>\n",
              "      <td>0.0</td>\n",
              "      <td>20000</td>\n",
              "      <td>0.281504</td>\n",
              "    </tr>\n",
              "    <tr>\n",
              "      <th>31048</th>\n",
              "      <td>1.0</td>\n",
              "      <td>20000</td>\n",
              "      <td>0.281504</td>\n",
              "    </tr>\n",
              "    <tr>\n",
              "      <th>0</th>\n",
              "      <td>NaN</td>\n",
              "      <td>1</td>\n",
              "      <td>0.000014</td>\n",
              "    </tr>\n",
              "    <tr>\n",
              "      <th>1</th>\n",
              "      <td>NaN</td>\n",
              "      <td>1</td>\n",
              "      <td>0.000014</td>\n",
              "    </tr>\n",
              "    <tr>\n",
              "      <th>2</th>\n",
              "      <td>NaN</td>\n",
              "      <td>1</td>\n",
              "      <td>0.000014</td>\n",
              "    </tr>\n",
              "    <tr>\n",
              "      <th>...</th>\n",
              "      <td>...</td>\n",
              "      <td>...</td>\n",
              "      <td>...</td>\n",
              "    </tr>\n",
              "    <tr>\n",
              "      <th>31042</th>\n",
              "      <td>NaN</td>\n",
              "      <td>1</td>\n",
              "      <td>0.000014</td>\n",
              "    </tr>\n",
              "    <tr>\n",
              "      <th>31043</th>\n",
              "      <td>NaN</td>\n",
              "      <td>1</td>\n",
              "      <td>0.000014</td>\n",
              "    </tr>\n",
              "    <tr>\n",
              "      <th>31044</th>\n",
              "      <td>NaN</td>\n",
              "      <td>1</td>\n",
              "      <td>0.000014</td>\n",
              "    </tr>\n",
              "    <tr>\n",
              "      <th>31045</th>\n",
              "      <td>NaN</td>\n",
              "      <td>1</td>\n",
              "      <td>0.000014</td>\n",
              "    </tr>\n",
              "    <tr>\n",
              "      <th>31046</th>\n",
              "      <td>NaN</td>\n",
              "      <td>1</td>\n",
              "      <td>0.000014</td>\n",
              "    </tr>\n",
              "  </tbody>\n",
              "</table>\n",
              "<p>31049 rows × 3 columns</p>\n",
              "</div>"
            ],
            "text/plain": [
              "       Name  Count  Frequency\n",
              "31047   0.0  20000   0.281504\n",
              "31048   1.0  20000   0.281504\n",
              "0       NaN      1   0.000014\n",
              "1       NaN      1   0.000014\n",
              "2       NaN      1   0.000014\n",
              "...     ...    ...        ...\n",
              "31042   NaN      1   0.000014\n",
              "31043   NaN      1   0.000014\n",
              "31044   NaN      1   0.000014\n",
              "31045   NaN      1   0.000014\n",
              "31046   NaN      1   0.000014\n",
              "\n",
              "[31049 rows x 3 columns]"
            ]
          },
          "execution_count": 10,
          "metadata": {},
          "output_type": "execute_result"
        }
      ],
      "source": [
        "mba263.tabulate(data['churndep'])"
      ]
    },
    {
      "cell_type": "code",
      "execution_count": null,
      "id": "057fac74",
      "metadata": {
        "id": "057fac74"
      },
      "outputs": [],
      "source": [
        "data_calibration=data[data['calibrat']==1]"
      ]
    },
    {
      "cell_type": "code",
      "execution_count": null,
      "id": "1755c005",
      "metadata": {
        "id": "1755c005"
      },
      "outputs": [],
      "source": [
        "data_validation=data[data['calibrat']==0]"
      ]
    },
    {
      "cell_type": "code",
      "execution_count": null,
      "id": "e2d0c668",
      "metadata": {
        "id": "e2d0c668",
        "outputId": "0e801bc4-bb98-4a02-c35c-a64ccb9f8041"
      },
      "outputs": [
        {
          "data": {
            "text/plain": [
              "0.5"
            ]
          },
          "execution_count": 13,
          "metadata": {},
          "output_type": "execute_result"
        }
      ],
      "source": [
        "data_calibration['churn'].mean()"
      ]
    },
    {
      "cell_type": "code",
      "execution_count": null,
      "id": "e583ba8e",
      "metadata": {
        "id": "e583ba8e",
        "outputId": "bc90686b-e5f2-4a36-f921-5df98fe3fdcd"
      },
      "outputs": [
        {
          "data": {
            "text/plain": [
              "0.019615421779882115"
            ]
          },
          "execution_count": 14,
          "metadata": {},
          "output_type": "execute_result"
        }
      ],
      "source": [
        "data_validation['churn'].mean()"
      ]
    },
    {
      "cell_type": "code",
      "execution_count": null,
      "id": "a5ef517d",
      "metadata": {
        "id": "a5ef517d"
      },
      "outputs": [],
      "source": [
        "column_names = data.columns.tolist()"
      ]
    },
    {
      "cell_type": "code",
      "execution_count": null,
      "id": "576815d7",
      "metadata": {
        "id": "576815d7",
        "outputId": "d9f78380-0680-4248-f2fb-4fc2359d58d1"
      },
      "outputs": [
        {
          "data": {
            "text/plain": [
              "['customer',\n",
              " 'calibrat',\n",
              " 'churn',\n",
              " 'churndep',\n",
              " 'revenue',\n",
              " 'mou',\n",
              " 'recchrge',\n",
              " 'directas',\n",
              " 'overage',\n",
              " 'roam',\n",
              " 'changem',\n",
              " 'changer',\n",
              " 'dropvce',\n",
              " 'blckvce',\n",
              " 'unansvce',\n",
              " 'custcare',\n",
              " 'threeway',\n",
              " 'mourec',\n",
              " 'outcalls',\n",
              " 'incalls',\n",
              " 'peakvce',\n",
              " 'opeakvce',\n",
              " 'dropblk',\n",
              " 'callfwdv',\n",
              " 'callwait',\n",
              " 'months',\n",
              " 'uniqsubs',\n",
              " 'actvsubs',\n",
              " 'phones',\n",
              " 'models',\n",
              " 'eqpdays',\n",
              " 'age1',\n",
              " 'age2',\n",
              " 'children',\n",
              " 'credita',\n",
              " 'creditaa',\n",
              " 'prizmrur',\n",
              " 'prizmub',\n",
              " 'prizmtwn',\n",
              " 'refurb',\n",
              " 'webcap',\n",
              " 'truck',\n",
              " 'rv',\n",
              " 'occprof',\n",
              " 'occcler',\n",
              " 'occcrft',\n",
              " 'occstud',\n",
              " 'occhmkr',\n",
              " 'occret',\n",
              " 'occself',\n",
              " 'ownrent',\n",
              " 'marryun',\n",
              " 'marryyes',\n",
              " 'mailord',\n",
              " 'mailres',\n",
              " 'mailflag',\n",
              " 'travel',\n",
              " 'pcown',\n",
              " 'creditcd',\n",
              " 'retcalls',\n",
              " 'retaccpt',\n",
              " 'newcelly',\n",
              " 'newcelln',\n",
              " 'refer',\n",
              " 'incmiss',\n",
              " 'income',\n",
              " 'mcycle',\n",
              " 'setprcm',\n",
              " 'setprc',\n",
              " 'retcall']"
            ]
          },
          "execution_count": 16,
          "metadata": {},
          "output_type": "execute_result"
        }
      ],
      "source": [
        "column_names"
      ]
    },
    {
      "cell_type": "code",
      "execution_count": null,
      "id": "6a3f43fd",
      "metadata": {
        "id": "6a3f43fd"
      },
      "outputs": [],
      "source": [
        "varlist = [\n",
        " 'revenue',\n",
        " 'mou',\n",
        " 'recchrge',\n",
        " 'directas',\n",
        " 'overage',\n",
        " 'roam',\n",
        " 'changem',\n",
        " 'changer',\n",
        " 'dropvce',\n",
        " 'blckvce',\n",
        " 'unansvce',\n",
        " 'custcare',\n",
        " 'threeway',\n",
        " 'mourec',\n",
        " 'outcalls',\n",
        " 'incalls',\n",
        " 'peakvce',\n",
        " 'opeakvce',\n",
        " 'dropblk',\n",
        " 'callfwdv',\n",
        " 'callwait',\n",
        " 'months',\n",
        " 'uniqsubs',\n",
        " 'actvsubs',\n",
        " 'phones',\n",
        " 'models',\n",
        " 'eqpdays',\n",
        " 'age1',\n",
        " 'age2',\n",
        " 'children',\n",
        " 'credita',\n",
        " 'creditaa',\n",
        " 'prizmrur',\n",
        " 'prizmub',\n",
        " 'prizmtwn',\n",
        " 'refurb',\n",
        " 'webcap',\n",
        " 'truck',\n",
        " 'rv',\n",
        " 'occprof',\n",
        " 'occcler',\n",
        " 'occcrft',\n",
        " 'occstud',\n",
        " 'occhmkr',\n",
        " 'occret',\n",
        " 'occself',\n",
        " 'ownrent',\n",
        " 'marryun',\n",
        " 'marryyes',\n",
        " 'mailord',\n",
        " 'mailres',\n",
        " 'mailflag',\n",
        " 'travel',\n",
        " 'pcown',\n",
        " 'creditcd',\n",
        " 'retcalls',\n",
        " 'retaccpt',\n",
        " 'newcelly',\n",
        " 'newcelln',\n",
        " 'refer',\n",
        " 'incmiss',\n",
        " 'income',\n",
        " 'mcycle',\n",
        " 'setprcm',\n",
        " 'setprc',\n",
        " 'retcall']"
      ]
    },
    {
      "cell_type": "code",
      "execution_count": null,
      "id": "e4ead837",
      "metadata": {
        "id": "e4ead837"
      },
      "outputs": [],
      "source": [
        "#Logit with regularization (alpha = 30) (28 stat significant, 18 not, 20 nan)"
      ]
    },
    {
      "cell_type": "code",
      "execution_count": null,
      "id": "1bb31398",
      "metadata": {
        "id": "1bb31398",
        "outputId": "717caea3-7a98-4afc-a0d1-96453d6487b7"
      },
      "outputs": [
        {
          "name": "stdout",
          "output_type": "stream",
          "text": [
            "Optimization terminated successfully    (Exit mode 0)\n",
            "            Current function value: 0.6737856740633501\n",
            "            Iterations: 127\n",
            "            Function evaluations: 183\n",
            "            Gradient evaluations: 127\n"
          ]
        }
      ],
      "source": [
        "res_logit30=mba263.logit_reg(data_calibration['churndep'],data_calibration[varlist],alpha=30)"
      ]
    },
    {
      "cell_type": "code",
      "execution_count": null,
      "id": "00bcf99a",
      "metadata": {
        "id": "00bcf99a",
        "outputId": "6053e74d-3e66-476d-9491-e32602058ada"
      },
      "outputs": [
        {
          "data": {
            "text/html": [
              "<table class=\"simpletable\">\n",
              "<caption>Mba263Logit Regression Results</caption>\n",
              "<tr>\n",
              "  <th>Dep. Variable:</th>       <td>churndep</td>     <th>  No. Observations:  </th>  <td> 38941</td> \n",
              "</tr>\n",
              "<tr>\n",
              "  <th>Model:</th>              <td>Mba263Logit</td>   <th>  Df Residuals:      </th>  <td> 38894</td> \n",
              "</tr>\n",
              "<tr>\n",
              "  <th>Method:</th>                 <td>MLE</td>       <th>  Df Model:          </th>  <td>    46</td> \n",
              "</tr>\n",
              "<tr>\n",
              "  <th>Date:</th>            <td>Sat, 27 Apr 2024</td> <th>  Pseudo R-squ.:     </th>  <td>0.03053</td>\n",
              "</tr>\n",
              "<tr>\n",
              "  <th>Time:</th>                <td>19:27:49</td>     <th>  Log-Likelihood:    </th> <td> -26168.</td>\n",
              "</tr>\n",
              "<tr>\n",
              "  <th>converged:</th>             <td>True</td>       <th>  LL-Null:           </th> <td> -26992.</td>\n",
              "</tr>\n",
              "<tr>\n",
              "  <th>Covariance Type:</th>     <td>nonrobust</td>    <th>  LLR p-value:       </th>  <td> 0.000</td> \n",
              "</tr>\n",
              "</table>\n",
              "<table class=\"simpletable\">\n",
              "<tr>\n",
              "      <td></td>        <th>coef</th>     <th>std err</th>      <th>z</th>      <th>P>|z|</th>  <th>[0.025</th>    <th>0.975]</th>  \n",
              "</tr>\n",
              "<tr>\n",
              "  <th>const</th>    <td>         0</td> <td>      nan</td> <td>      nan</td> <td>   nan</td> <td>      nan</td> <td>      nan</td>\n",
              "</tr>\n",
              "<tr>\n",
              "  <th>revenue</th>  <td>    0.0019</td> <td>    0.001</td> <td>    2.441</td> <td> 0.015</td> <td>    0.000</td> <td>    0.004</td>\n",
              "</tr>\n",
              "<tr>\n",
              "  <th>mou</th>      <td>   -0.0003</td> <td> 4.95e-05</td> <td>   -5.698</td> <td> 0.000</td> <td>   -0.000</td> <td>   -0.000</td>\n",
              "</tr>\n",
              "<tr>\n",
              "  <th>recchrge</th> <td>   -0.0031</td> <td>    0.001</td> <td>   -3.545</td> <td> 0.000</td> <td>   -0.005</td> <td>   -0.001</td>\n",
              "</tr>\n",
              "<tr>\n",
              "  <th>directas</th> <td>   -0.0010</td> <td>    0.006</td> <td>   -0.167</td> <td> 0.868</td> <td>   -0.013</td> <td>    0.011</td>\n",
              "</tr>\n",
              "<tr>\n",
              "  <th>overage</th>  <td>    0.0008</td> <td>    0.000</td> <td>    2.748</td> <td> 0.006</td> <td>    0.000</td> <td>    0.001</td>\n",
              "</tr>\n",
              "<tr>\n",
              "  <th>roam</th>     <td>    0.0071</td> <td>    0.002</td> <td>    3.439</td> <td> 0.001</td> <td>    0.003</td> <td>    0.011</td>\n",
              "</tr>\n",
              "<tr>\n",
              "  <th>changem</th>  <td>   -0.0005</td> <td> 5.34e-05</td> <td>   -9.234</td> <td> 0.000</td> <td>   -0.001</td> <td>   -0.000</td>\n",
              "</tr>\n",
              "<tr>\n",
              "  <th>changer</th>  <td>    0.0023</td> <td>    0.000</td> <td>    6.243</td> <td> 0.000</td> <td>    0.002</td> <td>    0.003</td>\n",
              "</tr>\n",
              "<tr>\n",
              "  <th>dropvce</th>  <td>    0.0081</td> <td>    0.002</td> <td>    4.961</td> <td> 0.000</td> <td>    0.005</td> <td>    0.011</td>\n",
              "</tr>\n",
              "<tr>\n",
              "  <th>blckvce</th>  <td>    0.0035</td> <td>    0.001</td> <td>    3.135</td> <td> 0.002</td> <td>    0.001</td> <td>    0.006</td>\n",
              "</tr>\n",
              "<tr>\n",
              "  <th>unansvce</th> <td>    0.0010</td> <td>    0.000</td> <td>    2.161</td> <td> 0.031</td> <td> 8.98e-05</td> <td>    0.002</td>\n",
              "</tr>\n",
              "<tr>\n",
              "  <th>custcare</th> <td>   -0.0060</td> <td>    0.003</td> <td>   -2.391</td> <td> 0.017</td> <td>   -0.011</td> <td>   -0.001</td>\n",
              "</tr>\n",
              "<tr>\n",
              "  <th>threeway</th> <td>   -0.0268</td> <td>    0.011</td> <td>   -2.395</td> <td> 0.017</td> <td>   -0.049</td> <td>   -0.005</td>\n",
              "</tr>\n",
              "<tr>\n",
              "  <th>mourec</th>   <td>    0.0001</td> <td>    0.000</td> <td>    0.967</td> <td> 0.334</td> <td>   -0.000</td> <td>    0.000</td>\n",
              "</tr>\n",
              "<tr>\n",
              "  <th>outcalls</th> <td>    0.0010</td> <td>    0.001</td> <td>    1.742</td> <td> 0.082</td> <td>   -0.000</td> <td>    0.002</td>\n",
              "</tr>\n",
              "<tr>\n",
              "  <th>incalls</th>  <td>   -0.0031</td> <td>    0.001</td> <td>   -2.923</td> <td> 0.003</td> <td>   -0.005</td> <td>   -0.001</td>\n",
              "</tr>\n",
              "<tr>\n",
              "  <th>peakvce</th>  <td>   -0.0007</td> <td>    0.000</td> <td>   -3.011</td> <td> 0.003</td> <td>   -0.001</td> <td>   -0.000</td>\n",
              "</tr>\n",
              "<tr>\n",
              "  <th>opeakvce</th> <td>   -0.0002</td> <td>    0.000</td> <td>   -0.797</td> <td> 0.425</td> <td>   -0.001</td> <td>    0.000</td>\n",
              "</tr>\n",
              "<tr>\n",
              "  <th>dropblk</th>  <td>         0</td> <td>      nan</td> <td>      nan</td> <td>   nan</td> <td>      nan</td> <td>      nan</td>\n",
              "</tr>\n",
              "<tr>\n",
              "  <th>callfwdv</th> <td>         0</td> <td>      nan</td> <td>      nan</td> <td>   nan</td> <td>      nan</td> <td>      nan</td>\n",
              "</tr>\n",
              "<tr>\n",
              "  <th>callwait</th> <td>    0.0016</td> <td>    0.003</td> <td>    0.520</td> <td> 0.603</td> <td>   -0.004</td> <td>    0.008</td>\n",
              "</tr>\n",
              "<tr>\n",
              "  <th>months</th>   <td>   -0.0193</td> <td>    0.002</td> <td>   -9.986</td> <td> 0.000</td> <td>   -0.023</td> <td>   -0.016</td>\n",
              "</tr>\n",
              "<tr>\n",
              "  <th>uniqsubs</th> <td>    0.1655</td> <td>    0.020</td> <td>    8.365</td> <td> 0.000</td> <td>    0.127</td> <td>    0.204</td>\n",
              "</tr>\n",
              "<tr>\n",
              "  <th>actvsubs</th> <td>   -0.1670</td> <td>    0.027</td> <td>   -6.085</td> <td> 0.000</td> <td>   -0.221</td> <td>   -0.113</td>\n",
              "</tr>\n",
              "<tr>\n",
              "  <th>phones</th>   <td>    0.0515</td> <td>    0.018</td> <td>    2.847</td> <td> 0.004</td> <td>    0.016</td> <td>    0.087</td>\n",
              "</tr>\n",
              "<tr>\n",
              "  <th>models</th>   <td>    0.0069</td> <td>    0.027</td> <td>    0.253</td> <td> 0.800</td> <td>   -0.046</td> <td>    0.060</td>\n",
              "</tr>\n",
              "<tr>\n",
              "  <th>eqpdays</th>  <td>    0.0014</td> <td> 7.32e-05</td> <td>   19.236</td> <td> 0.000</td> <td>    0.001</td> <td>    0.002</td>\n",
              "</tr>\n",
              "<tr>\n",
              "  <th>age1</th>     <td>   -0.0029</td> <td>    0.001</td> <td>   -3.595</td> <td> 0.000</td> <td>   -0.004</td> <td>   -0.001</td>\n",
              "</tr>\n",
              "<tr>\n",
              "  <th>age2</th>     <td>   -0.0009</td> <td>    0.001</td> <td>   -1.294</td> <td> 0.196</td> <td>   -0.002</td> <td>    0.000</td>\n",
              "</tr>\n",
              "<tr>\n",
              "  <th>children</th> <td>    0.0817</td> <td>    0.028</td> <td>    2.935</td> <td> 0.003</td> <td>    0.027</td> <td>    0.136</td>\n",
              "</tr>\n",
              "<tr>\n",
              "  <th>credita</th>  <td>   -0.1244</td> <td>    0.035</td> <td>   -3.554</td> <td> 0.000</td> <td>   -0.193</td> <td>   -0.056</td>\n",
              "</tr>\n",
              "<tr>\n",
              "  <th>creditaa</th> <td>   -0.3141</td> <td>    0.034</td> <td>   -9.226</td> <td> 0.000</td> <td>   -0.381</td> <td>   -0.247</td>\n",
              "</tr>\n",
              "<tr>\n",
              "  <th>prizmrur</th> <td>    0.0067</td> <td>    0.049</td> <td>    0.137</td> <td> 0.891</td> <td>   -0.090</td> <td>    0.103</td>\n",
              "</tr>\n",
              "<tr>\n",
              "  <th>prizmub</th>  <td>   -0.0358</td> <td>    0.024</td> <td>   -1.482</td> <td> 0.138</td> <td>   -0.083</td> <td>    0.012</td>\n",
              "</tr>\n",
              "<tr>\n",
              "  <th>prizmtwn</th> <td>    0.0210</td> <td>    0.031</td> <td>    0.674</td> <td> 0.500</td> <td>   -0.040</td> <td>    0.082</td>\n",
              "</tr>\n",
              "<tr>\n",
              "  <th>refurb</th>   <td>    0.2173</td> <td>    0.032</td> <td>    6.887</td> <td> 0.000</td> <td>    0.155</td> <td>    0.279</td>\n",
              "</tr>\n",
              "<tr>\n",
              "  <th>webcap</th>   <td>   -0.1079</td> <td>    0.033</td> <td>   -3.303</td> <td> 0.001</td> <td>   -0.172</td> <td>   -0.044</td>\n",
              "</tr>\n",
              "<tr>\n",
              "  <th>truck</th>    <td>    0.0254</td> <td>    0.029</td> <td>    0.885</td> <td> 0.376</td> <td>   -0.031</td> <td>    0.081</td>\n",
              "</tr>\n",
              "<tr>\n",
              "  <th>rv</th>       <td>         0</td> <td>      nan</td> <td>      nan</td> <td>   nan</td> <td>      nan</td> <td>      nan</td>\n",
              "</tr>\n",
              "<tr>\n",
              "  <th>occprof</th>  <td>         0</td> <td>      nan</td> <td>      nan</td> <td>   nan</td> <td>      nan</td> <td>      nan</td>\n",
              "</tr>\n",
              "<tr>\n",
              "  <th>occcler</th>  <td>         0</td> <td>      nan</td> <td>      nan</td> <td>   nan</td> <td>      nan</td> <td>      nan</td>\n",
              "</tr>\n",
              "<tr>\n",
              "  <th>occcrft</th>  <td>         0</td> <td>      nan</td> <td>      nan</td> <td>   nan</td> <td>      nan</td> <td>      nan</td>\n",
              "</tr>\n",
              "<tr>\n",
              "  <th>occstud</th>  <td>         0</td> <td>      nan</td> <td>      nan</td> <td>   nan</td> <td>      nan</td> <td>      nan</td>\n",
              "</tr>\n",
              "<tr>\n",
              "  <th>occhmkr</th>  <td>         0</td> <td>      nan</td> <td>      nan</td> <td>   nan</td> <td>      nan</td> <td>      nan</td>\n",
              "</tr>\n",
              "<tr>\n",
              "  <th>occret</th>   <td>         0</td> <td>      nan</td> <td>      nan</td> <td>   nan</td> <td>      nan</td> <td>      nan</td>\n",
              "</tr>\n",
              "<tr>\n",
              "  <th>occself</th>  <td>         0</td> <td>      nan</td> <td>      nan</td> <td>   nan</td> <td>      nan</td> <td>      nan</td>\n",
              "</tr>\n",
              "<tr>\n",
              "  <th>ownrent</th>  <td>         0</td> <td>      nan</td> <td>      nan</td> <td>   nan</td> <td>      nan</td> <td>      nan</td>\n",
              "</tr>\n",
              "<tr>\n",
              "  <th>marryun</th>  <td>    0.0471</td> <td>    0.030</td> <td>    1.585</td> <td> 0.113</td> <td>   -0.011</td> <td>    0.105</td>\n",
              "</tr>\n",
              "<tr>\n",
              "  <th>marryyes</th> <td>    0.0067</td> <td>    0.031</td> <td>    0.213</td> <td> 0.831</td> <td>   -0.055</td> <td>    0.068</td>\n",
              "</tr>\n",
              "<tr>\n",
              "  <th>mailord</th>  <td>         0</td> <td>      nan</td> <td>      nan</td> <td>   nan</td> <td>      nan</td> <td>      nan</td>\n",
              "</tr>\n",
              "<tr>\n",
              "  <th>mailres</th>  <td>   -0.0980</td> <td>    0.028</td> <td>   -3.541</td> <td> 0.000</td> <td>   -0.152</td> <td>   -0.044</td>\n",
              "</tr>\n",
              "<tr>\n",
              "  <th>mailflag</th> <td>         0</td> <td>      nan</td> <td>      nan</td> <td>   nan</td> <td>      nan</td> <td>      nan</td>\n",
              "</tr>\n",
              "<tr>\n",
              "  <th>travel</th>   <td>         0</td> <td>      nan</td> <td>      nan</td> <td>   nan</td> <td>      nan</td> <td>      nan</td>\n",
              "</tr>\n",
              "<tr>\n",
              "  <th>pcown</th>    <td>    0.0018</td> <td>    0.030</td> <td>    0.062</td> <td> 0.950</td> <td>   -0.056</td> <td>    0.060</td>\n",
              "</tr>\n",
              "<tr>\n",
              "  <th>creditcd</th> <td>    0.0216</td> <td>    0.036</td> <td>    0.602</td> <td> 0.547</td> <td>   -0.049</td> <td>    0.092</td>\n",
              "</tr>\n",
              "<tr>\n",
              "  <th>retcalls</th> <td>    0.0064</td> <td>    0.170</td> <td>    0.038</td> <td> 0.970</td> <td>   -0.326</td> <td>    0.339</td>\n",
              "</tr>\n",
              "<tr>\n",
              "  <th>retaccpt</th> <td>         0</td> <td>      nan</td> <td>      nan</td> <td>   nan</td> <td>      nan</td> <td>      nan</td>\n",
              "</tr>\n",
              "<tr>\n",
              "  <th>newcelly</th> <td>   -0.0511</td> <td>    0.026</td> <td>   -1.933</td> <td> 0.053</td> <td>   -0.103</td> <td>    0.001</td>\n",
              "</tr>\n",
              "<tr>\n",
              "  <th>newcelln</th> <td>         0</td> <td>      nan</td> <td>      nan</td> <td>   nan</td> <td>      nan</td> <td>      nan</td>\n",
              "</tr>\n",
              "<tr>\n",
              "  <th>refer</th>    <td>         0</td> <td>      nan</td> <td>      nan</td> <td>   nan</td> <td>      nan</td> <td>      nan</td>\n",
              "</tr>\n",
              "<tr>\n",
              "  <th>incmiss</th>  <td>         0</td> <td>      nan</td> <td>      nan</td> <td>   nan</td> <td>      nan</td> <td>      nan</td>\n",
              "</tr>\n",
              "<tr>\n",
              "  <th>income</th>   <td>   -0.0059</td> <td>    0.005</td> <td>   -1.150</td> <td> 0.250</td> <td>   -0.016</td> <td>    0.004</td>\n",
              "</tr>\n",
              "<tr>\n",
              "  <th>mcycle</th>   <td>         0</td> <td>      nan</td> <td>      nan</td> <td>   nan</td> <td>      nan</td> <td>      nan</td>\n",
              "</tr>\n",
              "<tr>\n",
              "  <th>setprcm</th>  <td>   -0.0453</td> <td>    0.035</td> <td>   -1.280</td> <td> 0.201</td> <td>   -0.115</td> <td>    0.024</td>\n",
              "</tr>\n",
              "<tr>\n",
              "  <th>setprc</th>   <td>    0.0009</td> <td>    0.000</td> <td>    3.261</td> <td> 0.001</td> <td>    0.000</td> <td>    0.001</td>\n",
              "</tr>\n",
              "<tr>\n",
              "  <th>retcall</th>  <td>    0.6385</td> <td>    0.193</td> <td>    3.305</td> <td> 0.001</td> <td>    0.260</td> <td>    1.017</td>\n",
              "</tr>\n",
              "</table>"
            ],
            "text/plain": [
              "<class 'statsmodels.iolib.summary.Summary'>\n",
              "\"\"\"\n",
              "                        Mba263Logit Regression Results                        \n",
              "==============================================================================\n",
              "Dep. Variable:               churndep   No. Observations:                38941\n",
              "Model:                    Mba263Logit   Df Residuals:                    38894\n",
              "Method:                           MLE   Df Model:                           46\n",
              "Date:                Sat, 27 Apr 2024   Pseudo R-squ.:                 0.03053\n",
              "Time:                        19:27:49   Log-Likelihood:                -26168.\n",
              "converged:                       True   LL-Null:                       -26992.\n",
              "Covariance Type:            nonrobust   LLR p-value:                     0.000\n",
              "==============================================================================\n",
              "                 coef    std err          z      P>|z|      [0.025      0.975]\n",
              "------------------------------------------------------------------------------\n",
              "const               0        nan        nan        nan         nan         nan\n",
              "revenue        0.0019      0.001      2.441      0.015       0.000       0.004\n",
              "mou           -0.0003   4.95e-05     -5.698      0.000      -0.000      -0.000\n",
              "recchrge      -0.0031      0.001     -3.545      0.000      -0.005      -0.001\n",
              "directas      -0.0010      0.006     -0.167      0.868      -0.013       0.011\n",
              "overage        0.0008      0.000      2.748      0.006       0.000       0.001\n",
              "roam           0.0071      0.002      3.439      0.001       0.003       0.011\n",
              "changem       -0.0005   5.34e-05     -9.234      0.000      -0.001      -0.000\n",
              "changer        0.0023      0.000      6.243      0.000       0.002       0.003\n",
              "dropvce        0.0081      0.002      4.961      0.000       0.005       0.011\n",
              "blckvce        0.0035      0.001      3.135      0.002       0.001       0.006\n",
              "unansvce       0.0010      0.000      2.161      0.031    8.98e-05       0.002\n",
              "custcare      -0.0060      0.003     -2.391      0.017      -0.011      -0.001\n",
              "threeway      -0.0268      0.011     -2.395      0.017      -0.049      -0.005\n",
              "mourec         0.0001      0.000      0.967      0.334      -0.000       0.000\n",
              "outcalls       0.0010      0.001      1.742      0.082      -0.000       0.002\n",
              "incalls       -0.0031      0.001     -2.923      0.003      -0.005      -0.001\n",
              "peakvce       -0.0007      0.000     -3.011      0.003      -0.001      -0.000\n",
              "opeakvce      -0.0002      0.000     -0.797      0.425      -0.001       0.000\n",
              "dropblk             0        nan        nan        nan         nan         nan\n",
              "callfwdv            0        nan        nan        nan         nan         nan\n",
              "callwait       0.0016      0.003      0.520      0.603      -0.004       0.008\n",
              "months        -0.0193      0.002     -9.986      0.000      -0.023      -0.016\n",
              "uniqsubs       0.1655      0.020      8.365      0.000       0.127       0.204\n",
              "actvsubs      -0.1670      0.027     -6.085      0.000      -0.221      -0.113\n",
              "phones         0.0515      0.018      2.847      0.004       0.016       0.087\n",
              "models         0.0069      0.027      0.253      0.800      -0.046       0.060\n",
              "eqpdays        0.0014   7.32e-05     19.236      0.000       0.001       0.002\n",
              "age1          -0.0029      0.001     -3.595      0.000      -0.004      -0.001\n",
              "age2          -0.0009      0.001     -1.294      0.196      -0.002       0.000\n",
              "children       0.0817      0.028      2.935      0.003       0.027       0.136\n",
              "credita       -0.1244      0.035     -3.554      0.000      -0.193      -0.056\n",
              "creditaa      -0.3141      0.034     -9.226      0.000      -0.381      -0.247\n",
              "prizmrur       0.0067      0.049      0.137      0.891      -0.090       0.103\n",
              "prizmub       -0.0358      0.024     -1.482      0.138      -0.083       0.012\n",
              "prizmtwn       0.0210      0.031      0.674      0.500      -0.040       0.082\n",
              "refurb         0.2173      0.032      6.887      0.000       0.155       0.279\n",
              "webcap        -0.1079      0.033     -3.303      0.001      -0.172      -0.044\n",
              "truck          0.0254      0.029      0.885      0.376      -0.031       0.081\n",
              "rv                  0        nan        nan        nan         nan         nan\n",
              "occprof             0        nan        nan        nan         nan         nan\n",
              "occcler             0        nan        nan        nan         nan         nan\n",
              "occcrft             0        nan        nan        nan         nan         nan\n",
              "occstud             0        nan        nan        nan         nan         nan\n",
              "occhmkr             0        nan        nan        nan         nan         nan\n",
              "occret              0        nan        nan        nan         nan         nan\n",
              "occself             0        nan        nan        nan         nan         nan\n",
              "ownrent             0        nan        nan        nan         nan         nan\n",
              "marryun        0.0471      0.030      1.585      0.113      -0.011       0.105\n",
              "marryyes       0.0067      0.031      0.213      0.831      -0.055       0.068\n",
              "mailord             0        nan        nan        nan         nan         nan\n",
              "mailres       -0.0980      0.028     -3.541      0.000      -0.152      -0.044\n",
              "mailflag            0        nan        nan        nan         nan         nan\n",
              "travel              0        nan        nan        nan         nan         nan\n",
              "pcown          0.0018      0.030      0.062      0.950      -0.056       0.060\n",
              "creditcd       0.0216      0.036      0.602      0.547      -0.049       0.092\n",
              "retcalls       0.0064      0.170      0.038      0.970      -0.326       0.339\n",
              "retaccpt            0        nan        nan        nan         nan         nan\n",
              "newcelly      -0.0511      0.026     -1.933      0.053      -0.103       0.001\n",
              "newcelln            0        nan        nan        nan         nan         nan\n",
              "refer               0        nan        nan        nan         nan         nan\n",
              "incmiss             0        nan        nan        nan         nan         nan\n",
              "income        -0.0059      0.005     -1.150      0.250      -0.016       0.004\n",
              "mcycle              0        nan        nan        nan         nan         nan\n",
              "setprcm       -0.0453      0.035     -1.280      0.201      -0.115       0.024\n",
              "setprc         0.0009      0.000      3.261      0.001       0.000       0.001\n",
              "retcall        0.6385      0.193      3.305      0.001       0.260       1.017\n",
              "==============================================================================\n",
              "\"\"\""
            ]
          },
          "execution_count": 20,
          "metadata": {},
          "output_type": "execute_result"
        }
      ],
      "source": [
        "res_logit30.summary()"
      ]
    },
    {
      "cell_type": "code",
      "execution_count": null,
      "id": "9cbbcfe9",
      "metadata": {
        "id": "9cbbcfe9",
        "outputId": "2720cbca-f575-48e5-c4b1-5e773dd62870"
      },
      "outputs": [
        {
          "data": {
            "text/html": [
              "<div>\n",
              "<style scoped>\n",
              "    .dataframe tbody tr th:only-of-type {\n",
              "        vertical-align: middle;\n",
              "    }\n",
              "\n",
              "    .dataframe tbody tr th {\n",
              "        vertical-align: top;\n",
              "    }\n",
              "\n",
              "    .dataframe thead th {\n",
              "        text-align: right;\n",
              "    }\n",
              "</style>\n",
              "<table border=\"1\" class=\"dataframe\">\n",
              "  <thead>\n",
              "    <tr style=\"text-align: right;\">\n",
              "      <th></th>\n",
              "      <th>Odds ratios</th>\n",
              "      <th>std err</th>\n",
              "      <th>z</th>\n",
              "      <th>P&gt;|z|</th>\n",
              "      <th>[0.025</th>\n",
              "      <th>0.975]</th>\n",
              "    </tr>\n",
              "  </thead>\n",
              "  <tbody>\n",
              "    <tr>\n",
              "      <th>revenue</th>\n",
              "      <td>1.001944</td>\n",
              "      <td>0.000797</td>\n",
              "      <td>2.438198</td>\n",
              "      <td>0.015</td>\n",
              "      <td>1.000397</td>\n",
              "      <td>1.003492</td>\n",
              "    </tr>\n",
              "    <tr>\n",
              "      <th>mou</th>\n",
              "      <td>0.999718</td>\n",
              "      <td>0.000049</td>\n",
              "      <td>5.698443</td>\n",
              "      <td>0.000</td>\n",
              "      <td>0.999622</td>\n",
              "      <td>0.999814</td>\n",
              "    </tr>\n",
              "    <tr>\n",
              "      <th>recchrge</th>\n",
              "      <td>0.996892</td>\n",
              "      <td>0.000875</td>\n",
              "      <td>3.550479</td>\n",
              "      <td>0.000</td>\n",
              "      <td>0.995194</td>\n",
              "      <td>0.998590</td>\n",
              "    </tr>\n",
              "    <tr>\n",
              "      <th>directas</th>\n",
              "      <td>0.999015</td>\n",
              "      <td>0.005907</td>\n",
              "      <td>0.166788</td>\n",
              "      <td>0.868</td>\n",
              "      <td>0.987556</td>\n",
              "      <td>1.010474</td>\n",
              "    </tr>\n",
              "    <tr>\n",
              "      <th>overage</th>\n",
              "      <td>1.000769</td>\n",
              "      <td>0.000280</td>\n",
              "      <td>2.747227</td>\n",
              "      <td>0.006</td>\n",
              "      <td>1.000226</td>\n",
              "      <td>1.001313</td>\n",
              "    </tr>\n",
              "    <tr>\n",
              "      <th>...</th>\n",
              "      <td>...</td>\n",
              "      <td>...</td>\n",
              "      <td>...</td>\n",
              "      <td>...</td>\n",
              "      <td>...</td>\n",
              "      <td>...</td>\n",
              "    </tr>\n",
              "    <tr>\n",
              "      <th>income</th>\n",
              "      <td>0.994096</td>\n",
              "      <td>0.005117</td>\n",
              "      <td>1.153835</td>\n",
              "      <td>0.249</td>\n",
              "      <td>0.984170</td>\n",
              "      <td>1.004023</td>\n",
              "    </tr>\n",
              "    <tr>\n",
              "      <th>mcycle</th>\n",
              "      <td>1.000000</td>\n",
              "      <td>NaN</td>\n",
              "      <td>NaN</td>\n",
              "      <td>NaN</td>\n",
              "      <td>NaN</td>\n",
              "      <td>NaN</td>\n",
              "    </tr>\n",
              "    <tr>\n",
              "      <th>setprcm</th>\n",
              "      <td>0.955745</td>\n",
              "      <td>0.033798</td>\n",
              "      <td>1.309391</td>\n",
              "      <td>0.190</td>\n",
              "      <td>0.890177</td>\n",
              "      <td>1.021313</td>\n",
              "    </tr>\n",
              "    <tr>\n",
              "      <th>setprc</th>\n",
              "      <td>1.000879</td>\n",
              "      <td>0.000270</td>\n",
              "      <td>3.259847</td>\n",
              "      <td>0.001</td>\n",
              "      <td>1.000356</td>\n",
              "      <td>1.001402</td>\n",
              "    </tr>\n",
              "    <tr>\n",
              "      <th>retcall</th>\n",
              "      <td>1.893728</td>\n",
              "      <td>0.365932</td>\n",
              "      <td>2.442336</td>\n",
              "      <td>0.015</td>\n",
              "      <td>1.183821</td>\n",
              "      <td>2.603635</td>\n",
              "    </tr>\n",
              "  </tbody>\n",
              "</table>\n",
              "<p>66 rows × 6 columns</p>\n",
              "</div>"
            ],
            "text/plain": [
              "          Odds ratios   std err         z  P>|z|    [0.025    0.975]\n",
              "revenue      1.001944  0.000797  2.438198  0.015  1.000397  1.003492\n",
              "mou          0.999718  0.000049  5.698443  0.000  0.999622  0.999814\n",
              "recchrge     0.996892  0.000875  3.550479  0.000  0.995194  0.998590\n",
              "directas     0.999015  0.005907  0.166788  0.868  0.987556  1.010474\n",
              "overage      1.000769  0.000280  2.747227  0.006  1.000226  1.001313\n",
              "...               ...       ...       ...    ...       ...       ...\n",
              "income       0.994096  0.005117  1.153835  0.249  0.984170  1.004023\n",
              "mcycle       1.000000       NaN       NaN    NaN       NaN       NaN\n",
              "setprcm      0.955745  0.033798  1.309391  0.190  0.890177  1.021313\n",
              "setprc       1.000879  0.000270  3.259847  0.001  1.000356  1.001402\n",
              "retcall      1.893728  0.365932  2.442336  0.015  1.183821  2.603635\n",
              "\n",
              "[66 rows x 6 columns]"
            ]
          },
          "execution_count": 21,
          "metadata": {},
          "output_type": "execute_result"
        }
      ],
      "source": [
        "mba263.odds_ratios(res_logit30)"
      ]
    },
    {
      "cell_type": "code",
      "execution_count": null,
      "id": "17dbc506",
      "metadata": {
        "id": "17dbc506",
        "outputId": "4c862e99-c8ff-4bba-c9a3-2c96a8637a6c",
        "scrolled": true
      },
      "outputs": [
        {
          "data": {
            "text/plain": [
              "31047    0.786116\n",
              "31048    0.338607\n",
              "31049    0.265287\n",
              "31050    0.507691\n",
              "31051    0.433779\n",
              "31052    0.322732\n",
              "31053    0.309051\n",
              "31054    0.369053\n",
              "31055    0.212615\n",
              "31056    0.443585\n",
              "Name: predchurn, dtype: float64"
            ]
          },
          "execution_count": 23,
          "metadata": {},
          "output_type": "execute_result"
        }
      ],
      "source": [
        "data_calibration['predchurn']=res_logit30.predict(data_calibration[varlist])\n",
        "data_calibration['predchurn'].head(10)"
      ]
    },
    {
      "cell_type": "code",
      "execution_count": null,
      "id": "892e4343",
      "metadata": {
        "id": "892e4343",
        "outputId": "a0ac068a-6ef8-40f5-a3a6-4f5d1db4bcfe"
      },
      "outputs": [
        {
          "data": {
            "text/plain": [
              "0.497925788094733"
            ]
          },
          "execution_count": 24,
          "metadata": {},
          "output_type": "execute_result"
        }
      ],
      "source": [
        "data_calibration['predchurn'].mean()"
      ]
    },
    {
      "cell_type": "code",
      "execution_count": null,
      "id": "d0692069",
      "metadata": {
        "id": "d0692069"
      },
      "outputs": [],
      "source": [
        "data_calibration['predchurn30']=res_logit30.predict(data_calibration[varlist])"
      ]
    },
    {
      "cell_type": "code",
      "execution_count": null,
      "id": "fc1645c6",
      "metadata": {
        "id": "fc1645c6",
        "outputId": "da70b721-2e9f-413f-cf46-82013e6bf10f"
      },
      "outputs": [
        {
          "data": {
            "text/plain": [
              "0.497925788094733"
            ]
          },
          "execution_count": 27,
          "metadata": {},
          "output_type": "execute_result"
        }
      ],
      "source": [
        "data_calibration['predchurn30'].mean()"
      ]
    },
    {
      "cell_type": "code",
      "execution_count": null,
      "id": "a8a0d4a8",
      "metadata": {
        "id": "a8a0d4a8"
      },
      "outputs": [],
      "source": [
        "#grading"
      ]
    },
    {
      "cell_type": "code",
      "execution_count": null,
      "id": "da4e7e1d",
      "metadata": {
        "id": "da4e7e1d"
      },
      "outputs": [],
      "source": [
        "data_calibration['grading']=10-mba263.ntile(data_calibration['predchurn'],10)"
      ]
    },
    {
      "cell_type": "code",
      "execution_count": null,
      "id": "d6b4febc",
      "metadata": {
        "id": "d6b4febc",
        "outputId": "37319fd0-5c74-43ce-d1ad-50a93fd0ed95"
      },
      "outputs": [
        {
          "data": {
            "text/plain": [
              "<AxesSubplot:xlabel='grading'>"
            ]
          },
          "execution_count": 30,
          "metadata": {},
          "output_type": "execute_result"
        },
        {
          "data": {
            "image/png": "[encoded data removed]",
            "text/plain": [
              "<Figure size 432x288 with 1 Axes>"
            ]
          },
          "metadata": {
            "needs_background": "light"
          },
          "output_type": "display_data"
        }
      ],
      "source": [
        "data_calibration[ ['grading','churndep'] ].groupby('grading').mean().plot(kind='bar')"
      ]
    },
    {
      "cell_type": "code",
      "execution_count": null,
      "id": "916bfd0b",
      "metadata": {
        "id": "916bfd0b"
      },
      "outputs": [],
      "source": [
        "data_validation['predchurn']=res_logit30.predict(data_validation[varlist])"
      ]
    },
    {
      "cell_type": "code",
      "execution_count": null,
      "id": "9f1a9f37",
      "metadata": {
        "id": "9f1a9f37",
        "outputId": "bf7f3e87-c098-4a41-cec5-78c82ff11f55"
      },
      "outputs": [
        {
          "data": {
            "text/plain": [
              "0    0.268225\n",
              "1    0.275962\n",
              "2    0.353664\n",
              "3    0.313440\n",
              "4    0.367491\n",
              "5    0.465665\n",
              "6    0.449327\n",
              "7    0.336729\n",
              "8    0.258999\n",
              "9    0.289266\n",
              "Name: predchurn, dtype: float64"
            ]
          },
          "execution_count": 32,
          "metadata": {},
          "output_type": "execute_result"
        }
      ],
      "source": [
        "data_validation['predchurn'].head(10)"
      ]
    },
    {
      "cell_type": "code",
      "execution_count": null,
      "id": "c16cb1ea",
      "metadata": {
        "id": "c16cb1ea",
        "outputId": "40f7b309-0981-433e-85e4-64c168a83273"
      },
      "outputs": [
        {
          "data": {
            "text/plain": [
              "0.47817732814947045"
            ]
          },
          "execution_count": 33,
          "metadata": {},
          "output_type": "execute_result"
        }
      ],
      "source": [
        "data_validation['predchurn'].mean()"
      ]
    },
    {
      "cell_type": "code",
      "execution_count": null,
      "id": "0d92538a",
      "metadata": {
        "id": "0d92538a",
        "outputId": "b6fdb5f5-0017-4b34-cd04-79510fb7c507"
      },
      "outputs": [
        {
          "data": {
            "text/html": [
              "<div>\n",
              "<style scoped>\n",
              "    .dataframe tbody tr th:only-of-type {\n",
              "        vertical-align: middle;\n",
              "    }\n",
              "\n",
              "    .dataframe tbody tr th {\n",
              "        vertical-align: top;\n",
              "    }\n",
              "\n",
              "    .dataframe thead tr th {\n",
              "        text-align: left;\n",
              "    }\n",
              "\n",
              "    .dataframe thead tr:last-of-type th {\n",
              "        text-align: right;\n",
              "    }\n",
              "</style>\n",
              "<table border=\"1\" class=\"dataframe\">\n",
              "  <thead>\n",
              "    <tr>\n",
              "      <th></th>\n",
              "      <th colspan=\"8\" halign=\"left\">revenue</th>\n",
              "    </tr>\n",
              "    <tr>\n",
              "      <th></th>\n",
              "      <th>count</th>\n",
              "      <th>mean</th>\n",
              "      <th>std</th>\n",
              "      <th>min</th>\n",
              "      <th>25%</th>\n",
              "      <th>50%</th>\n",
              "      <th>75%</th>\n",
              "      <th>max</th>\n",
              "    </tr>\n",
              "    <tr>\n",
              "      <th>rev_dec</th>\n",
              "      <th></th>\n",
              "      <th></th>\n",
              "      <th></th>\n",
              "      <th></th>\n",
              "      <th></th>\n",
              "      <th></th>\n",
              "      <th></th>\n",
              "      <th></th>\n",
              "    </tr>\n",
              "  </thead>\n",
              "  <tbody>\n",
              "    <tr>\n",
              "      <th>0.0</th>\n",
              "      <td>3098.0</td>\n",
              "      <td>16.344204</td>\n",
              "      <td>6.067655</td>\n",
              "      <td>-6.167500</td>\n",
              "      <td>10.660000</td>\n",
              "      <td>16.453750</td>\n",
              "      <td>20.924375</td>\n",
              "      <td>27.934999</td>\n",
              "    </tr>\n",
              "    <tr>\n",
              "      <th>1.0</th>\n",
              "      <td>3102.0</td>\n",
              "      <td>30.179800</td>\n",
              "      <td>0.639735</td>\n",
              "      <td>27.942499</td>\n",
              "      <td>29.990000</td>\n",
              "      <td>30.237499</td>\n",
              "      <td>30.507500</td>\n",
              "      <td>31.477501</td>\n",
              "    </tr>\n",
              "    <tr>\n",
              "      <th>2.0</th>\n",
              "      <td>3092.0</td>\n",
              "      <td>33.875305</td>\n",
              "      <td>1.187106</td>\n",
              "      <td>31.480000</td>\n",
              "      <td>32.834999</td>\n",
              "      <td>33.991251</td>\n",
              "      <td>34.990002</td>\n",
              "      <td>35.442501</td>\n",
              "    </tr>\n",
              "    <tr>\n",
              "      <th>3.0</th>\n",
              "      <td>3098.0</td>\n",
              "      <td>37.871431</td>\n",
              "      <td>1.594890</td>\n",
              "      <td>35.447498</td>\n",
              "      <td>36.392502</td>\n",
              "      <td>37.805000</td>\n",
              "      <td>39.269376</td>\n",
              "      <td>40.584999</td>\n",
              "    </tr>\n",
              "    <tr>\n",
              "      <th>4.0</th>\n",
              "      <td>3096.0</td>\n",
              "      <td>44.343461</td>\n",
              "      <td>2.345294</td>\n",
              "      <td>40.590000</td>\n",
              "      <td>42.301876</td>\n",
              "      <td>44.252499</td>\n",
              "      <td>46.250625</td>\n",
              "      <td>48.740002</td>\n",
              "    </tr>\n",
              "    <tr>\n",
              "      <th>5.0</th>\n",
              "      <td>3097.0</td>\n",
              "      <td>51.521228</td>\n",
              "      <td>1.581100</td>\n",
              "      <td>48.744999</td>\n",
              "      <td>50.237499</td>\n",
              "      <td>51.174999</td>\n",
              "      <td>52.937500</td>\n",
              "      <td>54.622501</td>\n",
              "    </tr>\n",
              "    <tr>\n",
              "      <th>6.0</th>\n",
              "      <td>3097.0</td>\n",
              "      <td>59.046046</td>\n",
              "      <td>2.682673</td>\n",
              "      <td>54.625000</td>\n",
              "      <td>56.630001</td>\n",
              "      <td>59.127499</td>\n",
              "      <td>61.192501</td>\n",
              "      <td>63.895000</td>\n",
              "    </tr>\n",
              "    <tr>\n",
              "      <th>7.0</th>\n",
              "      <td>3097.0</td>\n",
              "      <td>71.309810</td>\n",
              "      <td>4.581880</td>\n",
              "      <td>63.900002</td>\n",
              "      <td>67.099998</td>\n",
              "      <td>71.142502</td>\n",
              "      <td>75.434998</td>\n",
              "      <td>79.224998</td>\n",
              "    </tr>\n",
              "    <tr>\n",
              "      <th>8.0</th>\n",
              "      <td>3097.0</td>\n",
              "      <td>89.698910</td>\n",
              "      <td>6.918892</td>\n",
              "      <td>79.230003</td>\n",
              "      <td>83.987503</td>\n",
              "      <td>88.735001</td>\n",
              "      <td>95.077499</td>\n",
              "      <td>103.760000</td>\n",
              "    </tr>\n",
              "    <tr>\n",
              "      <th>9.0</th>\n",
              "      <td>3098.0</td>\n",
              "      <td>157.161376</td>\n",
              "      <td>69.516755</td>\n",
              "      <td>103.770000</td>\n",
              "      <td>116.975625</td>\n",
              "      <td>134.710000</td>\n",
              "      <td>171.266873</td>\n",
              "      <td>1223.380000</td>\n",
              "    </tr>\n",
              "  </tbody>\n",
              "</table>\n",
              "</div>"
            ],
            "text/plain": [
              "        revenue                                                             \\\n",
              "          count        mean        std         min         25%         50%   \n",
              "rev_dec                                                                      \n",
              "0.0      3098.0   16.344204   6.067655   -6.167500   10.660000   16.453750   \n",
              "1.0      3102.0   30.179800   0.639735   27.942499   29.990000   30.237499   \n",
              "2.0      3092.0   33.875305   1.187106   31.480000   32.834999   33.991251   \n",
              "3.0      3098.0   37.871431   1.594890   35.447498   36.392502   37.805000   \n",
              "4.0      3096.0   44.343461   2.345294   40.590000   42.301876   44.252499   \n",
              "5.0      3097.0   51.521228   1.581100   48.744999   50.237499   51.174999   \n",
              "6.0      3097.0   59.046046   2.682673   54.625000   56.630001   59.127499   \n",
              "7.0      3097.0   71.309810   4.581880   63.900002   67.099998   71.142502   \n",
              "8.0      3097.0   89.698910   6.918892   79.230003   83.987503   88.735001   \n",
              "9.0      3098.0  157.161376  69.516755  103.770000  116.975625  134.710000   \n",
              "\n",
              "                                  \n",
              "                75%          max  \n",
              "rev_dec                           \n",
              "0.0       20.924375    27.934999  \n",
              "1.0       30.507500    31.477501  \n",
              "2.0       34.990002    35.442501  \n",
              "3.0       39.269376    40.584999  \n",
              "4.0       46.250625    48.740002  \n",
              "5.0       52.937500    54.622501  \n",
              "6.0       61.192501    63.895000  \n",
              "7.0       75.434998    79.224998  \n",
              "8.0       95.077499   103.760000  \n",
              "9.0      171.266873  1223.380000  "
            ]
          },
          "execution_count": 46,
          "metadata": {},
          "output_type": "execute_result"
        }
      ],
      "source": [
        "revdec_result = mba263.ntile(data_validation['revenue'],10)\n",
        "data_validation['rev_dec']=revdec_result\n",
        "data_validation[ ['revenue','rev_dec'] ].groupby('rev_dec').describe()"
      ]
    },
    {
      "cell_type": "code",
      "execution_count": null,
      "id": "18d6662e",
      "metadata": {
        "id": "18d6662e",
        "outputId": "d2d780c4-0606-4e53-9767-897c954cd595"
      },
      "outputs": [
        {
          "data": {
            "text/html": [
              "<div>\n",
              "<style scoped>\n",
              "    .dataframe tbody tr th:only-of-type {\n",
              "        vertical-align: middle;\n",
              "    }\n",
              "\n",
              "    .dataframe tbody tr th {\n",
              "        vertical-align: top;\n",
              "    }\n",
              "\n",
              "    .dataframe thead tr th {\n",
              "        text-align: left;\n",
              "    }\n",
              "\n",
              "    .dataframe thead tr:last-of-type th {\n",
              "        text-align: right;\n",
              "    }\n",
              "</style>\n",
              "<table border=\"1\" class=\"dataframe\">\n",
              "  <thead>\n",
              "    <tr>\n",
              "      <th></th>\n",
              "      <th colspan=\"8\" halign=\"left\">eqpdays</th>\n",
              "    </tr>\n",
              "    <tr>\n",
              "      <th></th>\n",
              "      <th>count</th>\n",
              "      <th>mean</th>\n",
              "      <th>std</th>\n",
              "      <th>min</th>\n",
              "      <th>25%</th>\n",
              "      <th>50%</th>\n",
              "      <th>75%</th>\n",
              "      <th>max</th>\n",
              "    </tr>\n",
              "    <tr>\n",
              "      <th>rev_dec</th>\n",
              "      <th></th>\n",
              "      <th></th>\n",
              "      <th></th>\n",
              "      <th></th>\n",
              "      <th></th>\n",
              "      <th></th>\n",
              "      <th></th>\n",
              "      <th></th>\n",
              "    </tr>\n",
              "  </thead>\n",
              "  <tbody>\n",
              "    <tr>\n",
              "      <th>0.0</th>\n",
              "      <td>3098.0</td>\n",
              "      <td>472.296320</td>\n",
              "      <td>316.853025</td>\n",
              "      <td>-1.0</td>\n",
              "      <td>252.00</td>\n",
              "      <td>385.0</td>\n",
              "      <td>635.00</td>\n",
              "      <td>1813.0</td>\n",
              "    </tr>\n",
              "    <tr>\n",
              "      <th>1.0</th>\n",
              "      <td>3102.0</td>\n",
              "      <td>479.528369</td>\n",
              "      <td>252.095075</td>\n",
              "      <td>-2.0</td>\n",
              "      <td>308.00</td>\n",
              "      <td>443.0</td>\n",
              "      <td>640.00</td>\n",
              "      <td>1538.0</td>\n",
              "    </tr>\n",
              "    <tr>\n",
              "      <th>2.0</th>\n",
              "      <td>3092.0</td>\n",
              "      <td>417.111578</td>\n",
              "      <td>245.940734</td>\n",
              "      <td>-2.0</td>\n",
              "      <td>243.00</td>\n",
              "      <td>367.0</td>\n",
              "      <td>571.00</td>\n",
              "      <td>1582.0</td>\n",
              "    </tr>\n",
              "    <tr>\n",
              "      <th>3.0</th>\n",
              "      <td>3098.0</td>\n",
              "      <td>365.517108</td>\n",
              "      <td>232.793469</td>\n",
              "      <td>-3.0</td>\n",
              "      <td>210.00</td>\n",
              "      <td>307.0</td>\n",
              "      <td>472.75</td>\n",
              "      <td>1485.0</td>\n",
              "    </tr>\n",
              "    <tr>\n",
              "      <th>4.0</th>\n",
              "      <td>3096.0</td>\n",
              "      <td>351.709625</td>\n",
              "      <td>238.507848</td>\n",
              "      <td>-5.0</td>\n",
              "      <td>192.75</td>\n",
              "      <td>296.0</td>\n",
              "      <td>478.00</td>\n",
              "      <td>1782.0</td>\n",
              "    </tr>\n",
              "    <tr>\n",
              "      <th>5.0</th>\n",
              "      <td>3097.0</td>\n",
              "      <td>360.408460</td>\n",
              "      <td>231.561590</td>\n",
              "      <td>-4.0</td>\n",
              "      <td>202.00</td>\n",
              "      <td>313.0</td>\n",
              "      <td>488.00</td>\n",
              "      <td>1565.0</td>\n",
              "    </tr>\n",
              "    <tr>\n",
              "      <th>6.0</th>\n",
              "      <td>3097.0</td>\n",
              "      <td>336.514692</td>\n",
              "      <td>227.611126</td>\n",
              "      <td>-5.0</td>\n",
              "      <td>189.00</td>\n",
              "      <td>290.0</td>\n",
              "      <td>450.00</td>\n",
              "      <td>1524.0</td>\n",
              "    </tr>\n",
              "    <tr>\n",
              "      <th>7.0</th>\n",
              "      <td>3096.0</td>\n",
              "      <td>307.848837</td>\n",
              "      <td>214.913002</td>\n",
              "      <td>-3.0</td>\n",
              "      <td>156.00</td>\n",
              "      <td>268.0</td>\n",
              "      <td>428.00</td>\n",
              "      <td>1593.0</td>\n",
              "    </tr>\n",
              "    <tr>\n",
              "      <th>8.0</th>\n",
              "      <td>3097.0</td>\n",
              "      <td>288.621569</td>\n",
              "      <td>216.111528</td>\n",
              "      <td>-5.0</td>\n",
              "      <td>127.00</td>\n",
              "      <td>248.0</td>\n",
              "      <td>388.00</td>\n",
              "      <td>1583.0</td>\n",
              "    </tr>\n",
              "    <tr>\n",
              "      <th>9.0</th>\n",
              "      <td>3098.0</td>\n",
              "      <td>255.471272</td>\n",
              "      <td>195.356404</td>\n",
              "      <td>-3.0</td>\n",
              "      <td>105.00</td>\n",
              "      <td>220.0</td>\n",
              "      <td>351.00</td>\n",
              "      <td>1695.0</td>\n",
              "    </tr>\n",
              "  </tbody>\n",
              "</table>\n",
              "</div>"
            ],
            "text/plain": [
              "        eqpdays                                                            \n",
              "          count        mean         std  min     25%    50%     75%     max\n",
              "rev_dec                                                                    \n",
              "0.0      3098.0  472.296320  316.853025 -1.0  252.00  385.0  635.00  1813.0\n",
              "1.0      3102.0  479.528369  252.095075 -2.0  308.00  443.0  640.00  1538.0\n",
              "2.0      3092.0  417.111578  245.940734 -2.0  243.00  367.0  571.00  1582.0\n",
              "3.0      3098.0  365.517108  232.793469 -3.0  210.00  307.0  472.75  1485.0\n",
              "4.0      3096.0  351.709625  238.507848 -5.0  192.75  296.0  478.00  1782.0\n",
              "5.0      3097.0  360.408460  231.561590 -4.0  202.00  313.0  488.00  1565.0\n",
              "6.0      3097.0  336.514692  227.611126 -5.0  189.00  290.0  450.00  1524.0\n",
              "7.0      3096.0  307.848837  214.913002 -3.0  156.00  268.0  428.00  1593.0\n",
              "8.0      3097.0  288.621569  216.111528 -5.0  127.00  248.0  388.00  1583.0\n",
              "9.0      3098.0  255.471272  195.356404 -3.0  105.00  220.0  351.00  1695.0"
            ]
          },
          "execution_count": 47,
          "metadata": {},
          "output_type": "execute_result"
        }
      ],
      "source": [
        "data_validation[ ['eqpdays','rev_dec'] ].groupby('rev_dec').describe()"
      ]
    },
    {
      "cell_type": "code",
      "execution_count": null,
      "id": "df6a1059",
      "metadata": {
        "id": "df6a1059",
        "outputId": "546c0dfe-74e1-4fcb-c462-aefce36b50a3"
      },
      "outputs": [
        {
          "data": {
            "text/html": [
              "<div>\n",
              "<style scoped>\n",
              "    .dataframe tbody tr th:only-of-type {\n",
              "        vertical-align: middle;\n",
              "    }\n",
              "\n",
              "    .dataframe tbody tr th {\n",
              "        vertical-align: top;\n",
              "    }\n",
              "\n",
              "    .dataframe thead tr th {\n",
              "        text-align: left;\n",
              "    }\n",
              "\n",
              "    .dataframe thead tr:last-of-type th {\n",
              "        text-align: right;\n",
              "    }\n",
              "</style>\n",
              "<table border=\"1\" class=\"dataframe\">\n",
              "  <thead>\n",
              "    <tr>\n",
              "      <th></th>\n",
              "      <th colspan=\"8\" halign=\"left\">months</th>\n",
              "    </tr>\n",
              "    <tr>\n",
              "      <th></th>\n",
              "      <th>count</th>\n",
              "      <th>mean</th>\n",
              "      <th>std</th>\n",
              "      <th>min</th>\n",
              "      <th>25%</th>\n",
              "      <th>50%</th>\n",
              "      <th>75%</th>\n",
              "      <th>max</th>\n",
              "    </tr>\n",
              "    <tr>\n",
              "      <th>rev_dec</th>\n",
              "      <th></th>\n",
              "      <th></th>\n",
              "      <th></th>\n",
              "      <th></th>\n",
              "      <th></th>\n",
              "      <th></th>\n",
              "      <th></th>\n",
              "      <th></th>\n",
              "    </tr>\n",
              "  </thead>\n",
              "  <tbody>\n",
              "    <tr>\n",
              "      <th>0.0</th>\n",
              "      <td>3098.0</td>\n",
              "      <td>20.008715</td>\n",
              "      <td>11.445971</td>\n",
              "      <td>6.0</td>\n",
              "      <td>11.0</td>\n",
              "      <td>17.0</td>\n",
              "      <td>26.0</td>\n",
              "      <td>60.0</td>\n",
              "    </tr>\n",
              "    <tr>\n",
              "      <th>1.0</th>\n",
              "      <td>3102.0</td>\n",
              "      <td>19.846551</td>\n",
              "      <td>9.026618</td>\n",
              "      <td>6.0</td>\n",
              "      <td>13.0</td>\n",
              "      <td>19.0</td>\n",
              "      <td>25.0</td>\n",
              "      <td>61.0</td>\n",
              "    </tr>\n",
              "    <tr>\n",
              "      <th>2.0</th>\n",
              "      <td>3092.0</td>\n",
              "      <td>18.207633</td>\n",
              "      <td>9.166223</td>\n",
              "      <td>6.0</td>\n",
              "      <td>11.0</td>\n",
              "      <td>16.0</td>\n",
              "      <td>23.0</td>\n",
              "      <td>58.0</td>\n",
              "    </tr>\n",
              "    <tr>\n",
              "      <th>3.0</th>\n",
              "      <td>3098.0</td>\n",
              "      <td>16.880891</td>\n",
              "      <td>9.371104</td>\n",
              "      <td>6.0</td>\n",
              "      <td>9.0</td>\n",
              "      <td>14.0</td>\n",
              "      <td>22.0</td>\n",
              "      <td>59.0</td>\n",
              "    </tr>\n",
              "    <tr>\n",
              "      <th>4.0</th>\n",
              "      <td>3096.0</td>\n",
              "      <td>17.641150</td>\n",
              "      <td>9.261805</td>\n",
              "      <td>6.0</td>\n",
              "      <td>10.0</td>\n",
              "      <td>15.0</td>\n",
              "      <td>23.0</td>\n",
              "      <td>59.0</td>\n",
              "    </tr>\n",
              "    <tr>\n",
              "      <th>5.0</th>\n",
              "      <td>3097.0</td>\n",
              "      <td>18.162415</td>\n",
              "      <td>9.411277</td>\n",
              "      <td>6.0</td>\n",
              "      <td>11.0</td>\n",
              "      <td>16.0</td>\n",
              "      <td>24.0</td>\n",
              "      <td>57.0</td>\n",
              "    </tr>\n",
              "    <tr>\n",
              "      <th>6.0</th>\n",
              "      <td>3097.0</td>\n",
              "      <td>18.351631</td>\n",
              "      <td>9.707546</td>\n",
              "      <td>6.0</td>\n",
              "      <td>11.0</td>\n",
              "      <td>16.0</td>\n",
              "      <td>24.0</td>\n",
              "      <td>59.0</td>\n",
              "    </tr>\n",
              "    <tr>\n",
              "      <th>7.0</th>\n",
              "      <td>3097.0</td>\n",
              "      <td>18.377462</td>\n",
              "      <td>9.929560</td>\n",
              "      <td>6.0</td>\n",
              "      <td>10.0</td>\n",
              "      <td>16.0</td>\n",
              "      <td>24.0</td>\n",
              "      <td>57.0</td>\n",
              "    </tr>\n",
              "    <tr>\n",
              "      <th>8.0</th>\n",
              "      <td>3097.0</td>\n",
              "      <td>19.163707</td>\n",
              "      <td>10.679044</td>\n",
              "      <td>6.0</td>\n",
              "      <td>11.0</td>\n",
              "      <td>16.0</td>\n",
              "      <td>25.0</td>\n",
              "      <td>59.0</td>\n",
              "    </tr>\n",
              "    <tr>\n",
              "      <th>9.0</th>\n",
              "      <td>3098.0</td>\n",
              "      <td>19.459329</td>\n",
              "      <td>10.878276</td>\n",
              "      <td>6.0</td>\n",
              "      <td>11.0</td>\n",
              "      <td>17.0</td>\n",
              "      <td>25.0</td>\n",
              "      <td>59.0</td>\n",
              "    </tr>\n",
              "  </tbody>\n",
              "</table>\n",
              "</div>"
            ],
            "text/plain": [
              "         months                                                   \n",
              "          count       mean        std  min   25%   50%   75%   max\n",
              "rev_dec                                                           \n",
              "0.0      3098.0  20.008715  11.445971  6.0  11.0  17.0  26.0  60.0\n",
              "1.0      3102.0  19.846551   9.026618  6.0  13.0  19.0  25.0  61.0\n",
              "2.0      3092.0  18.207633   9.166223  6.0  11.0  16.0  23.0  58.0\n",
              "3.0      3098.0  16.880891   9.371104  6.0   9.0  14.0  22.0  59.0\n",
              "4.0      3096.0  17.641150   9.261805  6.0  10.0  15.0  23.0  59.0\n",
              "5.0      3097.0  18.162415   9.411277  6.0  11.0  16.0  24.0  57.0\n",
              "6.0      3097.0  18.351631   9.707546  6.0  11.0  16.0  24.0  59.0\n",
              "7.0      3097.0  18.377462   9.929560  6.0  10.0  16.0  24.0  57.0\n",
              "8.0      3097.0  19.163707  10.679044  6.0  11.0  16.0  25.0  59.0\n",
              "9.0      3098.0  19.459329  10.878276  6.0  11.0  17.0  25.0  59.0"
            ]
          },
          "execution_count": 49,
          "metadata": {},
          "output_type": "execute_result"
        }
      ],
      "source": [
        "data_validation[ ['months','rev_dec'] ].groupby('rev_dec').describe()"
      ]
    },
    {
      "cell_type": "code",
      "execution_count": null,
      "id": "83969baf",
      "metadata": {
        "id": "83969baf",
        "outputId": "e76ec7bf-7ed0-4821-839c-e5d0e15d7766"
      },
      "outputs": [
        {
          "data": {
            "text/html": [
              "<div>\n",
              "<style scoped>\n",
              "    .dataframe tbody tr th:only-of-type {\n",
              "        vertical-align: middle;\n",
              "    }\n",
              "\n",
              "    .dataframe tbody tr th {\n",
              "        vertical-align: top;\n",
              "    }\n",
              "\n",
              "    .dataframe thead tr th {\n",
              "        text-align: left;\n",
              "    }\n",
              "\n",
              "    .dataframe thead tr:last-of-type th {\n",
              "        text-align: right;\n",
              "    }\n",
              "</style>\n",
              "<table border=\"1\" class=\"dataframe\">\n",
              "  <thead>\n",
              "    <tr>\n",
              "      <th></th>\n",
              "      <th colspan=\"8\" halign=\"left\">churn</th>\n",
              "    </tr>\n",
              "    <tr>\n",
              "      <th></th>\n",
              "      <th>count</th>\n",
              "      <th>mean</th>\n",
              "      <th>std</th>\n",
              "      <th>min</th>\n",
              "      <th>25%</th>\n",
              "      <th>50%</th>\n",
              "      <th>75%</th>\n",
              "      <th>max</th>\n",
              "    </tr>\n",
              "    <tr>\n",
              "      <th>rev_dec</th>\n",
              "      <th></th>\n",
              "      <th></th>\n",
              "      <th></th>\n",
              "      <th></th>\n",
              "      <th></th>\n",
              "      <th></th>\n",
              "      <th></th>\n",
              "      <th></th>\n",
              "    </tr>\n",
              "  </thead>\n",
              "  <tbody>\n",
              "    <tr>\n",
              "      <th>0.0</th>\n",
              "      <td>3098.0</td>\n",
              "      <td>0.023564</td>\n",
              "      <td>0.151710</td>\n",
              "      <td>0.0</td>\n",
              "      <td>0.0</td>\n",
              "      <td>0.0</td>\n",
              "      <td>0.0</td>\n",
              "      <td>1.0</td>\n",
              "    </tr>\n",
              "    <tr>\n",
              "      <th>1.0</th>\n",
              "      <td>3102.0</td>\n",
              "      <td>0.024500</td>\n",
              "      <td>0.154621</td>\n",
              "      <td>0.0</td>\n",
              "      <td>0.0</td>\n",
              "      <td>0.0</td>\n",
              "      <td>0.0</td>\n",
              "      <td>1.0</td>\n",
              "    </tr>\n",
              "    <tr>\n",
              "      <th>2.0</th>\n",
              "      <td>3092.0</td>\n",
              "      <td>0.022639</td>\n",
              "      <td>0.148774</td>\n",
              "      <td>0.0</td>\n",
              "      <td>0.0</td>\n",
              "      <td>0.0</td>\n",
              "      <td>0.0</td>\n",
              "      <td>1.0</td>\n",
              "    </tr>\n",
              "    <tr>\n",
              "      <th>3.0</th>\n",
              "      <td>3098.0</td>\n",
              "      <td>0.025178</td>\n",
              "      <td>0.156689</td>\n",
              "      <td>0.0</td>\n",
              "      <td>0.0</td>\n",
              "      <td>0.0</td>\n",
              "      <td>0.0</td>\n",
              "      <td>1.0</td>\n",
              "    </tr>\n",
              "    <tr>\n",
              "      <th>4.0</th>\n",
              "      <td>3096.0</td>\n",
              "      <td>0.015504</td>\n",
              "      <td>0.123566</td>\n",
              "      <td>0.0</td>\n",
              "      <td>0.0</td>\n",
              "      <td>0.0</td>\n",
              "      <td>0.0</td>\n",
              "      <td>1.0</td>\n",
              "    </tr>\n",
              "    <tr>\n",
              "      <th>5.0</th>\n",
              "      <td>3097.0</td>\n",
              "      <td>0.017113</td>\n",
              "      <td>0.129715</td>\n",
              "      <td>0.0</td>\n",
              "      <td>0.0</td>\n",
              "      <td>0.0</td>\n",
              "      <td>0.0</td>\n",
              "      <td>1.0</td>\n",
              "    </tr>\n",
              "    <tr>\n",
              "      <th>6.0</th>\n",
              "      <td>3097.0</td>\n",
              "      <td>0.018405</td>\n",
              "      <td>0.134432</td>\n",
              "      <td>0.0</td>\n",
              "      <td>0.0</td>\n",
              "      <td>0.0</td>\n",
              "      <td>0.0</td>\n",
              "      <td>1.0</td>\n",
              "    </tr>\n",
              "    <tr>\n",
              "      <th>7.0</th>\n",
              "      <td>3097.0</td>\n",
              "      <td>0.015176</td>\n",
              "      <td>0.122272</td>\n",
              "      <td>0.0</td>\n",
              "      <td>0.0</td>\n",
              "      <td>0.0</td>\n",
              "      <td>0.0</td>\n",
              "      <td>1.0</td>\n",
              "    </tr>\n",
              "    <tr>\n",
              "      <th>8.0</th>\n",
              "      <td>3097.0</td>\n",
              "      <td>0.017113</td>\n",
              "      <td>0.129715</td>\n",
              "      <td>0.0</td>\n",
              "      <td>0.0</td>\n",
              "      <td>0.0</td>\n",
              "      <td>0.0</td>\n",
              "      <td>1.0</td>\n",
              "    </tr>\n",
              "    <tr>\n",
              "      <th>9.0</th>\n",
              "      <td>3098.0</td>\n",
              "      <td>0.015817</td>\n",
              "      <td>0.124786</td>\n",
              "      <td>0.0</td>\n",
              "      <td>0.0</td>\n",
              "      <td>0.0</td>\n",
              "      <td>0.0</td>\n",
              "      <td>1.0</td>\n",
              "    </tr>\n",
              "  </tbody>\n",
              "</table>\n",
              "</div>"
            ],
            "text/plain": [
              "          churn                                             \n",
              "          count      mean       std  min  25%  50%  75%  max\n",
              "rev_dec                                                     \n",
              "0.0      3098.0  0.023564  0.151710  0.0  0.0  0.0  0.0  1.0\n",
              "1.0      3102.0  0.024500  0.154621  0.0  0.0  0.0  0.0  1.0\n",
              "2.0      3092.0  0.022639  0.148774  0.0  0.0  0.0  0.0  1.0\n",
              "3.0      3098.0  0.025178  0.156689  0.0  0.0  0.0  0.0  1.0\n",
              "4.0      3096.0  0.015504  0.123566  0.0  0.0  0.0  0.0  1.0\n",
              "5.0      3097.0  0.017113  0.129715  0.0  0.0  0.0  0.0  1.0\n",
              "6.0      3097.0  0.018405  0.134432  0.0  0.0  0.0  0.0  1.0\n",
              "7.0      3097.0  0.015176  0.122272  0.0  0.0  0.0  0.0  1.0\n",
              "8.0      3097.0  0.017113  0.129715  0.0  0.0  0.0  0.0  1.0\n",
              "9.0      3098.0  0.015817  0.124786  0.0  0.0  0.0  0.0  1.0"
            ]
          },
          "execution_count": 48,
          "metadata": {},
          "output_type": "execute_result"
        }
      ],
      "source": [
        "data_validation[ ['churn','rev_dec'] ].groupby('rev_dec').describe()"
      ]
    },
    {
      "cell_type": "code",
      "execution_count": null,
      "id": "494f7a2f",
      "metadata": {
        "id": "494f7a2f"
      },
      "outputs": [],
      "source": [
        "result = mba263.ntile(data_validation['mou'],10)"
      ]
    },
    {
      "cell_type": "code",
      "execution_count": null,
      "id": "dde76f76",
      "metadata": {
        "id": "dde76f76"
      },
      "outputs": [],
      "source": [
        "data_validation['mou_dec']=result"
      ]
    },
    {
      "cell_type": "code",
      "execution_count": null,
      "id": "2762362f",
      "metadata": {
        "id": "2762362f",
        "outputId": "d9ba981e-9662-4ab9-def5-4a1c6cedc795"
      },
      "outputs": [
        {
          "data": {
            "text/html": [
              "<div>\n",
              "<style scoped>\n",
              "    .dataframe tbody tr th:only-of-type {\n",
              "        vertical-align: middle;\n",
              "    }\n",
              "\n",
              "    .dataframe tbody tr th {\n",
              "        vertical-align: top;\n",
              "    }\n",
              "\n",
              "    .dataframe thead tr th {\n",
              "        text-align: left;\n",
              "    }\n",
              "\n",
              "    .dataframe thead tr:last-of-type th {\n",
              "        text-align: right;\n",
              "    }\n",
              "</style>\n",
              "<table border=\"1\" class=\"dataframe\">\n",
              "  <thead>\n",
              "    <tr>\n",
              "      <th></th>\n",
              "      <th colspan=\"8\" halign=\"left\">mou</th>\n",
              "    </tr>\n",
              "    <tr>\n",
              "      <th></th>\n",
              "      <th>count</th>\n",
              "      <th>mean</th>\n",
              "      <th>std</th>\n",
              "      <th>min</th>\n",
              "      <th>25%</th>\n",
              "      <th>50%</th>\n",
              "      <th>75%</th>\n",
              "      <th>max</th>\n",
              "    </tr>\n",
              "    <tr>\n",
              "      <th>mou_dec</th>\n",
              "      <th></th>\n",
              "      <th></th>\n",
              "      <th></th>\n",
              "      <th></th>\n",
              "      <th></th>\n",
              "      <th></th>\n",
              "      <th></th>\n",
              "      <th></th>\n",
              "    </tr>\n",
              "  </thead>\n",
              "  <tbody>\n",
              "    <tr>\n",
              "      <th>0.0</th>\n",
              "      <td>3100.0</td>\n",
              "      <td>26.375484</td>\n",
              "      <td>18.767493</td>\n",
              "      <td>0.00</td>\n",
              "      <td>8.7500</td>\n",
              "      <td>25.500</td>\n",
              "      <td>42.7500</td>\n",
              "      <td>60.50</td>\n",
              "    </tr>\n",
              "    <tr>\n",
              "      <th>1.0</th>\n",
              "      <td>3108.0</td>\n",
              "      <td>96.493753</td>\n",
              "      <td>20.203727</td>\n",
              "      <td>60.75</td>\n",
              "      <td>78.7500</td>\n",
              "      <td>96.625</td>\n",
              "      <td>113.7500</td>\n",
              "      <td>131.50</td>\n",
              "    </tr>\n",
              "    <tr>\n",
              "      <th>2.0</th>\n",
              "      <td>3088.0</td>\n",
              "      <td>168.689632</td>\n",
              "      <td>21.574374</td>\n",
              "      <td>131.75</td>\n",
              "      <td>149.7500</td>\n",
              "      <td>168.250</td>\n",
              "      <td>187.5000</td>\n",
              "      <td>205.75</td>\n",
              "    </tr>\n",
              "    <tr>\n",
              "      <th>3.0</th>\n",
              "      <td>3094.0</td>\n",
              "      <td>245.036899</td>\n",
              "      <td>22.986069</td>\n",
              "      <td>206.00</td>\n",
              "      <td>224.5625</td>\n",
              "      <td>245.375</td>\n",
              "      <td>264.6875</td>\n",
              "      <td>285.25</td>\n",
              "    </tr>\n",
              "    <tr>\n",
              "      <th>4.0</th>\n",
              "      <td>3097.0</td>\n",
              "      <td>330.501547</td>\n",
              "      <td>26.785524</td>\n",
              "      <td>285.50</td>\n",
              "      <td>307.0000</td>\n",
              "      <td>329.750</td>\n",
              "      <td>354.0000</td>\n",
              "      <td>377.50</td>\n",
              "    </tr>\n",
              "    <tr>\n",
              "      <th>5.0</th>\n",
              "      <td>3099.0</td>\n",
              "      <td>431.330362</td>\n",
              "      <td>32.675299</td>\n",
              "      <td>377.75</td>\n",
              "      <td>403.0000</td>\n",
              "      <td>430.250</td>\n",
              "      <td>459.0000</td>\n",
              "      <td>490.75</td>\n",
              "    </tr>\n",
              "    <tr>\n",
              "      <th>6.0</th>\n",
              "      <td>3097.0</td>\n",
              "      <td>563.688785</td>\n",
              "      <td>44.169837</td>\n",
              "      <td>491.00</td>\n",
              "      <td>524.5000</td>\n",
              "      <td>563.250</td>\n",
              "      <td>602.0000</td>\n",
              "      <td>642.75</td>\n",
              "    </tr>\n",
              "    <tr>\n",
              "      <th>7.0</th>\n",
              "      <td>3099.0</td>\n",
              "      <td>746.923551</td>\n",
              "      <td>63.256978</td>\n",
              "      <td>643.00</td>\n",
              "      <td>690.7500</td>\n",
              "      <td>745.250</td>\n",
              "      <td>800.3750</td>\n",
              "      <td>861.50</td>\n",
              "    </tr>\n",
              "    <tr>\n",
              "      <th>8.0</th>\n",
              "      <td>3094.0</td>\n",
              "      <td>1023.484324</td>\n",
              "      <td>105.336845</td>\n",
              "      <td>861.75</td>\n",
              "      <td>930.8125</td>\n",
              "      <td>1011.375</td>\n",
              "      <td>1110.1875</td>\n",
              "      <td>1232.25</td>\n",
              "    </tr>\n",
              "    <tr>\n",
              "      <th>9.0</th>\n",
              "      <td>3096.0</td>\n",
              "      <td>1777.550536</td>\n",
              "      <td>556.420905</td>\n",
              "      <td>1233.25</td>\n",
              "      <td>1397.4375</td>\n",
              "      <td>1613.250</td>\n",
              "      <td>1982.5000</td>\n",
              "      <td>7359.25</td>\n",
              "    </tr>\n",
              "  </tbody>\n",
              "</table>\n",
              "</div>"
            ],
            "text/plain": [
              "            mou                                                         \\\n",
              "          count         mean         std      min        25%       50%   \n",
              "mou_dec                                                                  \n",
              "0.0      3100.0    26.375484   18.767493     0.00     8.7500    25.500   \n",
              "1.0      3108.0    96.493753   20.203727    60.75    78.7500    96.625   \n",
              "2.0      3088.0   168.689632   21.574374   131.75   149.7500   168.250   \n",
              "3.0      3094.0   245.036899   22.986069   206.00   224.5625   245.375   \n",
              "4.0      3097.0   330.501547   26.785524   285.50   307.0000   329.750   \n",
              "5.0      3099.0   431.330362   32.675299   377.75   403.0000   430.250   \n",
              "6.0      3097.0   563.688785   44.169837   491.00   524.5000   563.250   \n",
              "7.0      3099.0   746.923551   63.256978   643.00   690.7500   745.250   \n",
              "8.0      3094.0  1023.484324  105.336845   861.75   930.8125  1011.375   \n",
              "9.0      3096.0  1777.550536  556.420905  1233.25  1397.4375  1613.250   \n",
              "\n",
              "                             \n",
              "               75%      max  \n",
              "mou_dec                      \n",
              "0.0        42.7500    60.50  \n",
              "1.0       113.7500   131.50  \n",
              "2.0       187.5000   205.75  \n",
              "3.0       264.6875   285.25  \n",
              "4.0       354.0000   377.50  \n",
              "5.0       459.0000   490.75  \n",
              "6.0       602.0000   642.75  \n",
              "7.0       800.3750   861.50  \n",
              "8.0      1110.1875  1232.25  \n",
              "9.0      1982.5000  7359.25  "
            ]
          },
          "execution_count": 36,
          "metadata": {},
          "output_type": "execute_result"
        }
      ],
      "source": [
        "data_validation[ ['mou','mou_dec'] ].groupby('mou_dec').describe()"
      ]
    },
    {
      "cell_type": "code",
      "execution_count": null,
      "id": "66e3b395",
      "metadata": {
        "id": "66e3b395",
        "outputId": "184bec03-3aff-4306-ba8d-4ca84854a14e"
      },
      "outputs": [
        {
          "data": {
            "text/plain": [
              "<AxesSubplot:xlabel='mou_dec'>"
            ]
          },
          "execution_count": 37,
          "metadata": {},
          "output_type": "execute_result"
        },
        {
          "data": {
            "image/png": "[encoded data removed]",
            "text/plain": [
              "<Figure size 432x288 with 1 Axes>"
            ]
          },
          "metadata": {
            "needs_background": "light"
          },
          "output_type": "display_data"
        }
      ],
      "source": [
        "data_validation[ ['mou', 'mou_dec'] ].groupby('mou_dec').mean().plot(kind='bar')"
      ]
    },
    {
      "cell_type": "code",
      "execution_count": null,
      "id": "c75201fd",
      "metadata": {
        "scrolled": true,
        "id": "c75201fd",
        "outputId": "04558fa7-e185-4fdf-e29c-f4d96e5aaba8"
      },
      "outputs": [
        {
          "data": {
            "text/html": [
              "<div>\n",
              "<style scoped>\n",
              "    .dataframe tbody tr th:only-of-type {\n",
              "        vertical-align: middle;\n",
              "    }\n",
              "\n",
              "    .dataframe tbody tr th {\n",
              "        vertical-align: top;\n",
              "    }\n",
              "\n",
              "    .dataframe thead tr th {\n",
              "        text-align: left;\n",
              "    }\n",
              "\n",
              "    .dataframe thead tr:last-of-type th {\n",
              "        text-align: right;\n",
              "    }\n",
              "</style>\n",
              "<table border=\"1\" class=\"dataframe\">\n",
              "  <thead>\n",
              "    <tr>\n",
              "      <th></th>\n",
              "      <th colspan=\"8\" halign=\"left\">revenue</th>\n",
              "    </tr>\n",
              "    <tr>\n",
              "      <th></th>\n",
              "      <th>count</th>\n",
              "      <th>mean</th>\n",
              "      <th>std</th>\n",
              "      <th>min</th>\n",
              "      <th>25%</th>\n",
              "      <th>50%</th>\n",
              "      <th>75%</th>\n",
              "      <th>max</th>\n",
              "    </tr>\n",
              "    <tr>\n",
              "      <th>mou_dec</th>\n",
              "      <th></th>\n",
              "      <th></th>\n",
              "      <th></th>\n",
              "      <th></th>\n",
              "      <th></th>\n",
              "      <th></th>\n",
              "      <th></th>\n",
              "      <th></th>\n",
              "    </tr>\n",
              "  </thead>\n",
              "  <tbody>\n",
              "    <tr>\n",
              "      <th>0.0</th>\n",
              "      <td>3100.0</td>\n",
              "      <td>27.858301</td>\n",
              "      <td>14.242524</td>\n",
              "      <td>-6.1675</td>\n",
              "      <td>17.736876</td>\n",
              "      <td>29.990000</td>\n",
              "      <td>33.066249</td>\n",
              "      <td>150.00000</td>\n",
              "    </tr>\n",
              "    <tr>\n",
              "      <th>1.0</th>\n",
              "      <td>3108.0</td>\n",
              "      <td>35.094466</td>\n",
              "      <td>13.790575</td>\n",
              "      <td>0.0000</td>\n",
              "      <td>29.991875</td>\n",
              "      <td>32.807501</td>\n",
              "      <td>38.968125</td>\n",
              "      <td>151.67500</td>\n",
              "    </tr>\n",
              "    <tr>\n",
              "      <th>2.0</th>\n",
              "      <td>3088.0</td>\n",
              "      <td>38.479664</td>\n",
              "      <td>14.832561</td>\n",
              "      <td>3.5625</td>\n",
              "      <td>30.495001</td>\n",
              "      <td>35.291250</td>\n",
              "      <td>45.212500</td>\n",
              "      <td>209.99001</td>\n",
              "    </tr>\n",
              "    <tr>\n",
              "      <th>3.0</th>\n",
              "      <td>3094.0</td>\n",
              "      <td>41.988085</td>\n",
              "      <td>17.048120</td>\n",
              "      <td>-2.5200</td>\n",
              "      <td>32.523749</td>\n",
              "      <td>38.549999</td>\n",
              "      <td>50.483126</td>\n",
              "      <td>312.46500</td>\n",
              "    </tr>\n",
              "    <tr>\n",
              "      <th>4.0</th>\n",
              "      <td>3097.0</td>\n",
              "      <td>46.665502</td>\n",
              "      <td>17.942824</td>\n",
              "      <td>8.3925</td>\n",
              "      <td>35.237499</td>\n",
              "      <td>44.177502</td>\n",
              "      <td>54.560001</td>\n",
              "      <td>178.92000</td>\n",
              "    </tr>\n",
              "    <tr>\n",
              "      <th>5.0</th>\n",
              "      <td>3099.0</td>\n",
              "      <td>53.527406</td>\n",
              "      <td>21.125684</td>\n",
              "      <td>6.1150</td>\n",
              "      <td>39.837499</td>\n",
              "      <td>50.902500</td>\n",
              "      <td>62.672501</td>\n",
              "      <td>252.08501</td>\n",
              "    </tr>\n",
              "    <tr>\n",
              "      <th>6.0</th>\n",
              "      <td>3097.0</td>\n",
              "      <td>61.754969</td>\n",
              "      <td>24.860725</td>\n",
              "      <td>9.7475</td>\n",
              "      <td>45.395000</td>\n",
              "      <td>57.580002</td>\n",
              "      <td>75.000000</td>\n",
              "      <td>360.58249</td>\n",
              "    </tr>\n",
              "    <tr>\n",
              "      <th>7.0</th>\n",
              "      <td>3099.0</td>\n",
              "      <td>71.248995</td>\n",
              "      <td>30.388074</td>\n",
              "      <td>9.7275</td>\n",
              "      <td>50.668751</td>\n",
              "      <td>65.400002</td>\n",
              "      <td>86.076248</td>\n",
              "      <td>289.15750</td>\n",
              "    </tr>\n",
              "    <tr>\n",
              "      <th>8.0</th>\n",
              "      <td>3094.0</td>\n",
              "      <td>85.425469</td>\n",
              "      <td>39.406500</td>\n",
              "      <td>10.0000</td>\n",
              "      <td>57.553126</td>\n",
              "      <td>79.461251</td>\n",
              "      <td>102.539375</td>\n",
              "      <td>465.64001</td>\n",
              "    </tr>\n",
              "    <tr>\n",
              "      <th>9.0</th>\n",
              "      <td>3096.0</td>\n",
              "      <td>129.401496</td>\n",
              "      <td>81.760704</td>\n",
              "      <td>10.3975</td>\n",
              "      <td>78.645622</td>\n",
              "      <td>108.641250</td>\n",
              "      <td>158.415008</td>\n",
              "      <td>1223.38000</td>\n",
              "    </tr>\n",
              "  </tbody>\n",
              "</table>\n",
              "</div>"
            ],
            "text/plain": [
              "        revenue                                                         \\\n",
              "          count        mean        std      min        25%         50%   \n",
              "mou_dec                                                                  \n",
              "0.0      3100.0   27.858301  14.242524  -6.1675  17.736876   29.990000   \n",
              "1.0      3108.0   35.094466  13.790575   0.0000  29.991875   32.807501   \n",
              "2.0      3088.0   38.479664  14.832561   3.5625  30.495001   35.291250   \n",
              "3.0      3094.0   41.988085  17.048120  -2.5200  32.523749   38.549999   \n",
              "4.0      3097.0   46.665502  17.942824   8.3925  35.237499   44.177502   \n",
              "5.0      3099.0   53.527406  21.125684   6.1150  39.837499   50.902500   \n",
              "6.0      3097.0   61.754969  24.860725   9.7475  45.395000   57.580002   \n",
              "7.0      3099.0   71.248995  30.388074   9.7275  50.668751   65.400002   \n",
              "8.0      3094.0   85.425469  39.406500  10.0000  57.553126   79.461251   \n",
              "9.0      3096.0  129.401496  81.760704  10.3975  78.645622  108.641250   \n",
              "\n",
              "                                 \n",
              "                75%         max  \n",
              "mou_dec                          \n",
              "0.0       33.066249   150.00000  \n",
              "1.0       38.968125   151.67500  \n",
              "2.0       45.212500   209.99001  \n",
              "3.0       50.483126   312.46500  \n",
              "4.0       54.560001   178.92000  \n",
              "5.0       62.672501   252.08501  \n",
              "6.0       75.000000   360.58249  \n",
              "7.0       86.076248   289.15750  \n",
              "8.0      102.539375   465.64001  \n",
              "9.0      158.415008  1223.38000  "
            ]
          },
          "execution_count": 38,
          "metadata": {},
          "output_type": "execute_result"
        }
      ],
      "source": [
        "data_validation[ ['revenue','mou_dec'] ].groupby('mou_dec').describe()"
      ]
    },
    {
      "cell_type": "code",
      "execution_count": null,
      "id": "210d2df2",
      "metadata": {
        "id": "210d2df2",
        "outputId": "819030b8-4778-4acb-cbe7-af2fcea4795e"
      },
      "outputs": [
        {
          "data": {
            "text/plain": [
              "0.019615421779882115"
            ]
          },
          "execution_count": 39,
          "metadata": {},
          "output_type": "execute_result"
        }
      ],
      "source": [
        "data_validation['churn'].mean()"
      ]
    },
    {
      "cell_type": "code",
      "execution_count": null,
      "id": "0c69095c",
      "metadata": {
        "id": "0c69095c",
        "outputId": "8842540e-ffb8-4cec-8fac-5571a8dd2d14"
      },
      "outputs": [
        {
          "data": {
            "text/plain": [
              "0.47817732814947045"
            ]
          },
          "execution_count": 43,
          "metadata": {},
          "output_type": "execute_result"
        }
      ],
      "source": [
        "data_validation['predchurn'].mean()"
      ]
    },
    {
      "cell_type": "code",
      "execution_count": null,
      "id": "40f1b17f",
      "metadata": {
        "id": "40f1b17f",
        "outputId": "a27f9974-088d-4b7b-b249-15e34c2d749c"
      },
      "outputs": [
        {
          "data": {
            "text/html": [
              "<div>\n",
              "<style scoped>\n",
              "    .dataframe tbody tr th:only-of-type {\n",
              "        vertical-align: middle;\n",
              "    }\n",
              "\n",
              "    .dataframe tbody tr th {\n",
              "        vertical-align: top;\n",
              "    }\n",
              "\n",
              "    .dataframe thead tr th {\n",
              "        text-align: left;\n",
              "    }\n",
              "\n",
              "    .dataframe thead tr:last-of-type th {\n",
              "        text-align: right;\n",
              "    }\n",
              "</style>\n",
              "<table border=\"1\" class=\"dataframe\">\n",
              "  <thead>\n",
              "    <tr>\n",
              "      <th></th>\n",
              "      <th colspan=\"8\" halign=\"left\">churn</th>\n",
              "    </tr>\n",
              "    <tr>\n",
              "      <th></th>\n",
              "      <th>count</th>\n",
              "      <th>mean</th>\n",
              "      <th>std</th>\n",
              "      <th>min</th>\n",
              "      <th>25%</th>\n",
              "      <th>50%</th>\n",
              "      <th>75%</th>\n",
              "      <th>max</th>\n",
              "    </tr>\n",
              "    <tr>\n",
              "      <th>mou_dec</th>\n",
              "      <th></th>\n",
              "      <th></th>\n",
              "      <th></th>\n",
              "      <th></th>\n",
              "      <th></th>\n",
              "      <th></th>\n",
              "      <th></th>\n",
              "      <th></th>\n",
              "    </tr>\n",
              "  </thead>\n",
              "  <tbody>\n",
              "    <tr>\n",
              "      <th>0.0</th>\n",
              "      <td>3100.0</td>\n",
              "      <td>0.027742</td>\n",
              "      <td>0.164259</td>\n",
              "      <td>0.0</td>\n",
              "      <td>0.0</td>\n",
              "      <td>0.0</td>\n",
              "      <td>0.0</td>\n",
              "      <td>1.0</td>\n",
              "    </tr>\n",
              "    <tr>\n",
              "      <th>1.0</th>\n",
              "      <td>3108.0</td>\n",
              "      <td>0.025097</td>\n",
              "      <td>0.156443</td>\n",
              "      <td>0.0</td>\n",
              "      <td>0.0</td>\n",
              "      <td>0.0</td>\n",
              "      <td>0.0</td>\n",
              "      <td>1.0</td>\n",
              "    </tr>\n",
              "    <tr>\n",
              "      <th>2.0</th>\n",
              "      <td>3088.0</td>\n",
              "      <td>0.023316</td>\n",
              "      <td>0.150930</td>\n",
              "      <td>0.0</td>\n",
              "      <td>0.0</td>\n",
              "      <td>0.0</td>\n",
              "      <td>0.0</td>\n",
              "      <td>1.0</td>\n",
              "    </tr>\n",
              "    <tr>\n",
              "      <th>3.0</th>\n",
              "      <td>3094.0</td>\n",
              "      <td>0.019069</td>\n",
              "      <td>0.136790</td>\n",
              "      <td>0.0</td>\n",
              "      <td>0.0</td>\n",
              "      <td>0.0</td>\n",
              "      <td>0.0</td>\n",
              "      <td>1.0</td>\n",
              "    </tr>\n",
              "    <tr>\n",
              "      <th>4.0</th>\n",
              "      <td>3097.0</td>\n",
              "      <td>0.017759</td>\n",
              "      <td>0.132096</td>\n",
              "      <td>0.0</td>\n",
              "      <td>0.0</td>\n",
              "      <td>0.0</td>\n",
              "      <td>0.0</td>\n",
              "      <td>1.0</td>\n",
              "    </tr>\n",
              "    <tr>\n",
              "      <th>5.0</th>\n",
              "      <td>3099.0</td>\n",
              "      <td>0.017102</td>\n",
              "      <td>0.129674</td>\n",
              "      <td>0.0</td>\n",
              "      <td>0.0</td>\n",
              "      <td>0.0</td>\n",
              "      <td>0.0</td>\n",
              "      <td>1.0</td>\n",
              "    </tr>\n",
              "    <tr>\n",
              "      <th>6.0</th>\n",
              "      <td>3097.0</td>\n",
              "      <td>0.019051</td>\n",
              "      <td>0.136725</td>\n",
              "      <td>0.0</td>\n",
              "      <td>0.0</td>\n",
              "      <td>0.0</td>\n",
              "      <td>0.0</td>\n",
              "      <td>1.0</td>\n",
              "    </tr>\n",
              "    <tr>\n",
              "      <th>7.0</th>\n",
              "      <td>3099.0</td>\n",
              "      <td>0.016134</td>\n",
              "      <td>0.126012</td>\n",
              "      <td>0.0</td>\n",
              "      <td>0.0</td>\n",
              "      <td>0.0</td>\n",
              "      <td>0.0</td>\n",
              "      <td>1.0</td>\n",
              "    </tr>\n",
              "    <tr>\n",
              "      <th>8.0</th>\n",
              "      <td>3094.0</td>\n",
              "      <td>0.016160</td>\n",
              "      <td>0.126112</td>\n",
              "      <td>0.0</td>\n",
              "      <td>0.0</td>\n",
              "      <td>0.0</td>\n",
              "      <td>0.0</td>\n",
              "      <td>1.0</td>\n",
              "    </tr>\n",
              "    <tr>\n",
              "      <th>9.0</th>\n",
              "      <td>3096.0</td>\n",
              "      <td>0.013566</td>\n",
              "      <td>0.115699</td>\n",
              "      <td>0.0</td>\n",
              "      <td>0.0</td>\n",
              "      <td>0.0</td>\n",
              "      <td>0.0</td>\n",
              "      <td>1.0</td>\n",
              "    </tr>\n",
              "  </tbody>\n",
              "</table>\n",
              "</div>"
            ],
            "text/plain": [
              "          churn                                             \n",
              "          count      mean       std  min  25%  50%  75%  max\n",
              "mou_dec                                                     \n",
              "0.0      3100.0  0.027742  0.164259  0.0  0.0  0.0  0.0  1.0\n",
              "1.0      3108.0  0.025097  0.156443  0.0  0.0  0.0  0.0  1.0\n",
              "2.0      3088.0  0.023316  0.150930  0.0  0.0  0.0  0.0  1.0\n",
              "3.0      3094.0  0.019069  0.136790  0.0  0.0  0.0  0.0  1.0\n",
              "4.0      3097.0  0.017759  0.132096  0.0  0.0  0.0  0.0  1.0\n",
              "5.0      3099.0  0.017102  0.129674  0.0  0.0  0.0  0.0  1.0\n",
              "6.0      3097.0  0.019051  0.136725  0.0  0.0  0.0  0.0  1.0\n",
              "7.0      3099.0  0.016134  0.126012  0.0  0.0  0.0  0.0  1.0\n",
              "8.0      3094.0  0.016160  0.126112  0.0  0.0  0.0  0.0  1.0\n",
              "9.0      3096.0  0.013566  0.115699  0.0  0.0  0.0  0.0  1.0"
            ]
          },
          "execution_count": 44,
          "metadata": {},
          "output_type": "execute_result"
        }
      ],
      "source": [
        "data_validation[ ['churn','mou_dec'] ].groupby('mou_dec').describe()"
      ]
    },
    {
      "cell_type": "code",
      "execution_count": null,
      "id": "222dc5b1",
      "metadata": {
        "id": "222dc5b1",
        "outputId": "a93241ee-20cd-46b9-e06d-70dc6fa042c0"
      },
      "outputs": [
        {
          "data": {
            "text/html": [
              "<div>\n",
              "<style scoped>\n",
              "    .dataframe tbody tr th:only-of-type {\n",
              "        vertical-align: middle;\n",
              "    }\n",
              "\n",
              "    .dataframe tbody tr th {\n",
              "        vertical-align: top;\n",
              "    }\n",
              "\n",
              "    .dataframe thead tr th {\n",
              "        text-align: left;\n",
              "    }\n",
              "\n",
              "    .dataframe thead tr:last-of-type th {\n",
              "        text-align: right;\n",
              "    }\n",
              "</style>\n",
              "<table border=\"1\" class=\"dataframe\">\n",
              "  <thead>\n",
              "    <tr>\n",
              "      <th></th>\n",
              "      <th colspan=\"8\" halign=\"left\">months</th>\n",
              "    </tr>\n",
              "    <tr>\n",
              "      <th></th>\n",
              "      <th>count</th>\n",
              "      <th>mean</th>\n",
              "      <th>std</th>\n",
              "      <th>min</th>\n",
              "      <th>25%</th>\n",
              "      <th>50%</th>\n",
              "      <th>75%</th>\n",
              "      <th>max</th>\n",
              "    </tr>\n",
              "    <tr>\n",
              "      <th>mou_dec</th>\n",
              "      <th></th>\n",
              "      <th></th>\n",
              "      <th></th>\n",
              "      <th></th>\n",
              "      <th></th>\n",
              "      <th></th>\n",
              "      <th></th>\n",
              "      <th></th>\n",
              "    </tr>\n",
              "  </thead>\n",
              "  <tbody>\n",
              "    <tr>\n",
              "      <th>0.0</th>\n",
              "      <td>3100.0</td>\n",
              "      <td>21.665161</td>\n",
              "      <td>11.153429</td>\n",
              "      <td>6.0</td>\n",
              "      <td>13.0</td>\n",
              "      <td>20.0</td>\n",
              "      <td>28.0</td>\n",
              "      <td>60.0</td>\n",
              "    </tr>\n",
              "    <tr>\n",
              "      <th>1.0</th>\n",
              "      <td>3108.0</td>\n",
              "      <td>19.522844</td>\n",
              "      <td>9.920173</td>\n",
              "      <td>6.0</td>\n",
              "      <td>11.0</td>\n",
              "      <td>18.0</td>\n",
              "      <td>25.0</td>\n",
              "      <td>61.0</td>\n",
              "    </tr>\n",
              "    <tr>\n",
              "      <th>2.0</th>\n",
              "      <td>3088.0</td>\n",
              "      <td>18.975712</td>\n",
              "      <td>9.563035</td>\n",
              "      <td>6.0</td>\n",
              "      <td>11.0</td>\n",
              "      <td>17.0</td>\n",
              "      <td>24.0</td>\n",
              "      <td>60.0</td>\n",
              "    </tr>\n",
              "    <tr>\n",
              "      <th>3.0</th>\n",
              "      <td>3094.0</td>\n",
              "      <td>18.339043</td>\n",
              "      <td>9.114343</td>\n",
              "      <td>6.0</td>\n",
              "      <td>11.0</td>\n",
              "      <td>16.0</td>\n",
              "      <td>24.0</td>\n",
              "      <td>59.0</td>\n",
              "    </tr>\n",
              "    <tr>\n",
              "      <th>4.0</th>\n",
              "      <td>3097.0</td>\n",
              "      <td>18.037133</td>\n",
              "      <td>9.335907</td>\n",
              "      <td>6.0</td>\n",
              "      <td>11.0</td>\n",
              "      <td>16.0</td>\n",
              "      <td>23.0</td>\n",
              "      <td>53.0</td>\n",
              "    </tr>\n",
              "    <tr>\n",
              "      <th>5.0</th>\n",
              "      <td>3099.0</td>\n",
              "      <td>17.728299</td>\n",
              "      <td>9.288664</td>\n",
              "      <td>6.0</td>\n",
              "      <td>10.0</td>\n",
              "      <td>15.0</td>\n",
              "      <td>23.0</td>\n",
              "      <td>56.0</td>\n",
              "    </tr>\n",
              "    <tr>\n",
              "      <th>6.0</th>\n",
              "      <td>3097.0</td>\n",
              "      <td>17.829190</td>\n",
              "      <td>9.558278</td>\n",
              "      <td>6.0</td>\n",
              "      <td>10.0</td>\n",
              "      <td>15.0</td>\n",
              "      <td>24.0</td>\n",
              "      <td>55.0</td>\n",
              "    </tr>\n",
              "    <tr>\n",
              "      <th>7.0</th>\n",
              "      <td>3099.0</td>\n",
              "      <td>17.801226</td>\n",
              "      <td>9.776712</td>\n",
              "      <td>6.0</td>\n",
              "      <td>10.0</td>\n",
              "      <td>15.0</td>\n",
              "      <td>23.0</td>\n",
              "      <td>57.0</td>\n",
              "    </tr>\n",
              "    <tr>\n",
              "      <th>8.0</th>\n",
              "      <td>3094.0</td>\n",
              "      <td>18.019392</td>\n",
              "      <td>10.234983</td>\n",
              "      <td>6.0</td>\n",
              "      <td>10.0</td>\n",
              "      <td>15.0</td>\n",
              "      <td>23.0</td>\n",
              "      <td>58.0</td>\n",
              "    </tr>\n",
              "    <tr>\n",
              "      <th>9.0</th>\n",
              "      <td>3096.0</td>\n",
              "      <td>18.179587</td>\n",
              "      <td>10.818254</td>\n",
              "      <td>6.0</td>\n",
              "      <td>10.0</td>\n",
              "      <td>15.0</td>\n",
              "      <td>23.0</td>\n",
              "      <td>59.0</td>\n",
              "    </tr>\n",
              "  </tbody>\n",
              "</table>\n",
              "</div>"
            ],
            "text/plain": [
              "         months                                                   \n",
              "          count       mean        std  min   25%   50%   75%   max\n",
              "mou_dec                                                           \n",
              "0.0      3100.0  21.665161  11.153429  6.0  13.0  20.0  28.0  60.0\n",
              "1.0      3108.0  19.522844   9.920173  6.0  11.0  18.0  25.0  61.0\n",
              "2.0      3088.0  18.975712   9.563035  6.0  11.0  17.0  24.0  60.0\n",
              "3.0      3094.0  18.339043   9.114343  6.0  11.0  16.0  24.0  59.0\n",
              "4.0      3097.0  18.037133   9.335907  6.0  11.0  16.0  23.0  53.0\n",
              "5.0      3099.0  17.728299   9.288664  6.0  10.0  15.0  23.0  56.0\n",
              "6.0      3097.0  17.829190   9.558278  6.0  10.0  15.0  24.0  55.0\n",
              "7.0      3099.0  17.801226   9.776712  6.0  10.0  15.0  23.0  57.0\n",
              "8.0      3094.0  18.019392  10.234983  6.0  10.0  15.0  23.0  58.0\n",
              "9.0      3096.0  18.179587  10.818254  6.0  10.0  15.0  23.0  59.0"
            ]
          },
          "execution_count": 45,
          "metadata": {},
          "output_type": "execute_result"
        }
      ],
      "source": [
        "data_validation[ ['months','mou_dec'] ].groupby('mou_dec').describe()"
      ]
    },
    {
      "cell_type": "code",
      "execution_count": null,
      "id": "66a446e5",
      "metadata": {
        "id": "66a446e5",
        "outputId": "22e1e44c-e7ff-4f99-e591-bcb2c4de90e1"
      },
      "outputs": [
        {
          "data": {
            "text/html": [
              "<div>\n",
              "<style scoped>\n",
              "    .dataframe tbody tr th:only-of-type {\n",
              "        vertical-align: middle;\n",
              "    }\n",
              "\n",
              "    .dataframe tbody tr th {\n",
              "        vertical-align: top;\n",
              "    }\n",
              "\n",
              "    .dataframe thead tr th {\n",
              "        text-align: left;\n",
              "    }\n",
              "\n",
              "    .dataframe thead tr:last-of-type th {\n",
              "        text-align: right;\n",
              "    }\n",
              "</style>\n",
              "<table border=\"1\" class=\"dataframe\">\n",
              "  <thead>\n",
              "    <tr>\n",
              "      <th></th>\n",
              "      <th colspan=\"8\" halign=\"left\">predchurn</th>\n",
              "    </tr>\n",
              "    <tr>\n",
              "      <th></th>\n",
              "      <th>count</th>\n",
              "      <th>mean</th>\n",
              "      <th>std</th>\n",
              "      <th>min</th>\n",
              "      <th>25%</th>\n",
              "      <th>50%</th>\n",
              "      <th>75%</th>\n",
              "      <th>max</th>\n",
              "    </tr>\n",
              "    <tr>\n",
              "      <th>mou_dec</th>\n",
              "      <th></th>\n",
              "      <th></th>\n",
              "      <th></th>\n",
              "      <th></th>\n",
              "      <th></th>\n",
              "      <th></th>\n",
              "      <th></th>\n",
              "      <th></th>\n",
              "    </tr>\n",
              "  </thead>\n",
              "  <tbody>\n",
              "    <tr>\n",
              "      <th>0.0</th>\n",
              "      <td>3022.0</td>\n",
              "      <td>0.531406</td>\n",
              "      <td>0.088195</td>\n",
              "      <td>0.207152</td>\n",
              "      <td>0.471779</td>\n",
              "      <td>0.528224</td>\n",
              "      <td>0.590877</td>\n",
              "      <td>0.843310</td>\n",
              "    </tr>\n",
              "    <tr>\n",
              "      <th>1.0</th>\n",
              "      <td>3047.0</td>\n",
              "      <td>0.508888</td>\n",
              "      <td>0.084293</td>\n",
              "      <td>0.218320</td>\n",
              "      <td>0.455188</td>\n",
              "      <td>0.509153</td>\n",
              "      <td>0.564682</td>\n",
              "      <td>0.843369</td>\n",
              "    </tr>\n",
              "    <tr>\n",
              "      <th>2.0</th>\n",
              "      <td>3040.0</td>\n",
              "      <td>0.500425</td>\n",
              "      <td>0.083550</td>\n",
              "      <td>0.246095</td>\n",
              "      <td>0.446109</td>\n",
              "      <td>0.497187</td>\n",
              "      <td>0.554281</td>\n",
              "      <td>0.807587</td>\n",
              "    </tr>\n",
              "    <tr>\n",
              "      <th>3.0</th>\n",
              "      <td>3042.0</td>\n",
              "      <td>0.492791</td>\n",
              "      <td>0.082695</td>\n",
              "      <td>0.216826</td>\n",
              "      <td>0.440385</td>\n",
              "      <td>0.491654</td>\n",
              "      <td>0.545825</td>\n",
              "      <td>0.867758</td>\n",
              "    </tr>\n",
              "    <tr>\n",
              "      <th>4.0</th>\n",
              "      <td>3049.0</td>\n",
              "      <td>0.483821</td>\n",
              "      <td>0.082904</td>\n",
              "      <td>0.246818</td>\n",
              "      <td>0.431669</td>\n",
              "      <td>0.481677</td>\n",
              "      <td>0.532723</td>\n",
              "      <td>0.845747</td>\n",
              "    </tr>\n",
              "    <tr>\n",
              "      <th>5.0</th>\n",
              "      <td>3035.0</td>\n",
              "      <td>0.476087</td>\n",
              "      <td>0.082150</td>\n",
              "      <td>0.213378</td>\n",
              "      <td>0.424079</td>\n",
              "      <td>0.474791</td>\n",
              "      <td>0.527332</td>\n",
              "      <td>0.789066</td>\n",
              "    </tr>\n",
              "    <tr>\n",
              "      <th>6.0</th>\n",
              "      <td>3036.0</td>\n",
              "      <td>0.466739</td>\n",
              "      <td>0.087167</td>\n",
              "      <td>0.217651</td>\n",
              "      <td>0.408032</td>\n",
              "      <td>0.463643</td>\n",
              "      <td>0.519923</td>\n",
              "      <td>0.792945</td>\n",
              "    </tr>\n",
              "    <tr>\n",
              "      <th>7.0</th>\n",
              "      <td>3042.0</td>\n",
              "      <td>0.458880</td>\n",
              "      <td>0.090118</td>\n",
              "      <td>0.147069</td>\n",
              "      <td>0.398780</td>\n",
              "      <td>0.455985</td>\n",
              "      <td>0.515641</td>\n",
              "      <td>0.829352</td>\n",
              "    </tr>\n",
              "    <tr>\n",
              "      <th>8.0</th>\n",
              "      <td>3034.0</td>\n",
              "      <td>0.444786</td>\n",
              "      <td>0.095455</td>\n",
              "      <td>0.167217</td>\n",
              "      <td>0.378904</td>\n",
              "      <td>0.440149</td>\n",
              "      <td>0.506243</td>\n",
              "      <td>0.827678</td>\n",
              "    </tr>\n",
              "    <tr>\n",
              "      <th>9.0</th>\n",
              "      <td>3021.0</td>\n",
              "      <td>0.417719</td>\n",
              "      <td>0.121667</td>\n",
              "      <td>0.039340</td>\n",
              "      <td>0.334662</td>\n",
              "      <td>0.405770</td>\n",
              "      <td>0.485856</td>\n",
              "      <td>0.999775</td>\n",
              "    </tr>\n",
              "  </tbody>\n",
              "</table>\n",
              "</div>"
            ],
            "text/plain": [
              "        predchurn                                                              \\\n",
              "            count      mean       std       min       25%       50%       75%   \n",
              "mou_dec                                                                         \n",
              "0.0        3022.0  0.531406  0.088195  0.207152  0.471779  0.528224  0.590877   \n",
              "1.0        3047.0  0.508888  0.084293  0.218320  0.455188  0.509153  0.564682   \n",
              "2.0        3040.0  0.500425  0.083550  0.246095  0.446109  0.497187  0.554281   \n",
              "3.0        3042.0  0.492791  0.082695  0.216826  0.440385  0.491654  0.545825   \n",
              "4.0        3049.0  0.483821  0.082904  0.246818  0.431669  0.481677  0.532723   \n",
              "5.0        3035.0  0.476087  0.082150  0.213378  0.424079  0.474791  0.527332   \n",
              "6.0        3036.0  0.466739  0.087167  0.217651  0.408032  0.463643  0.519923   \n",
              "7.0        3042.0  0.458880  0.090118  0.147069  0.398780  0.455985  0.515641   \n",
              "8.0        3034.0  0.444786  0.095455  0.167217  0.378904  0.440149  0.506243   \n",
              "9.0        3021.0  0.417719  0.121667  0.039340  0.334662  0.405770  0.485856   \n",
              "\n",
              "                   \n",
              "              max  \n",
              "mou_dec            \n",
              "0.0      0.843310  \n",
              "1.0      0.843369  \n",
              "2.0      0.807587  \n",
              "3.0      0.867758  \n",
              "4.0      0.845747  \n",
              "5.0      0.789066  \n",
              "6.0      0.792945  \n",
              "7.0      0.829352  \n",
              "8.0      0.827678  \n",
              "9.0      0.999775  "
            ]
          },
          "execution_count": 40,
          "metadata": {},
          "output_type": "execute_result"
        }
      ],
      "source": [
        "data_validation[ ['predchurn','mou_dec'] ].groupby('mou_dec').describe()"
      ]
    },
    {
      "cell_type": "code",
      "execution_count": null,
      "id": "54d71554",
      "metadata": {
        "id": "54d71554"
      },
      "outputs": [],
      "source": [
        "data_validation['grading']=10-mba263.ntile(data_validation['predchurn'],10)"
      ]
    },
    {
      "cell_type": "code",
      "execution_count": null,
      "id": "d67797d2",
      "metadata": {
        "id": "d67797d2",
        "outputId": "80ba7c06-0712-43fc-90bd-56cb689e86c1"
      },
      "outputs": [
        {
          "data": {
            "text/plain": [
              "0    10.0\n",
              "1    10.0\n",
              "2    10.0\n",
              "3    10.0\n",
              "4     9.0\n",
              "5     6.0\n",
              "6     7.0\n",
              "7    10.0\n",
              "8    10.0\n",
              "9    10.0\n",
              "Name: grading, dtype: float64"
            ]
          },
          "execution_count": 29,
          "metadata": {},
          "output_type": "execute_result"
        }
      ],
      "source": [
        "data_validation['grading'].head(10)"
      ]
    },
    {
      "cell_type": "code",
      "execution_count": null,
      "id": "4857bdc9",
      "metadata": {
        "id": "4857bdc9",
        "outputId": "bdb4fef9-d8fa-4551-b2b7-1219ede80e35"
      },
      "outputs": [
        {
          "data": {
            "text/plain": [
              "<AxesSubplot:xlabel='grading'>"
            ]
          },
          "execution_count": 30,
          "metadata": {},
          "output_type": "execute_result"
        },
        {
          "data": {
            "image/png": "[encoded data removed]",
            "text/plain": [
              "<Figure size 432x288 with 1 Axes>"
            ]
          },
          "metadata": {
            "needs_background": "light"
          },
          "output_type": "display_data"
        }
      ],
      "source": [
        "data_validation[ ['churn','grading'] ].groupby('grading').mean().plot(kind='bar')"
      ]
    },
    {
      "cell_type": "code",
      "execution_count": null,
      "id": "aff84ec0",
      "metadata": {
        "id": "aff84ec0"
      },
      "outputs": [],
      "source": [
        "gain_calibration= mba263.gain(data_calibration['churndep'],data_calibration['predchurn'],10)\n",
        "gain_validation= mba263.gain(data_validation['churn'],data_validation['predchurn'],10)"
      ]
    },
    {
      "cell_type": "code",
      "execution_count": null,
      "id": "e2baa3ef",
      "metadata": {
        "id": "e2baa3ef",
        "outputId": "01f3f1e3-53e9-4164-ed39-94f3a4874185"
      },
      "outputs": [
        {
          "data": {
            "text/plain": [
              "[<matplotlib.lines.Line2D at 0x7f340b26bf10>]"
            ]
          },
          "execution_count": 32,
          "metadata": {},
          "output_type": "execute_result"
        },
        {
          "data": {
            "image/png": "[encoded data removed]",
            "text/plain": [
              "<Figure size 432x288 with 1 Axes>"
            ]
          },
          "metadata": {
            "needs_background": "light"
          },
          "output_type": "display_data"
        }
      ],
      "source": [
        "plt.plot(gain_calibration,'r')\n",
        "plt.plot(gain_validation,'g')"
      ]
    },
    {
      "cell_type": "code",
      "execution_count": null,
      "id": "ce792012",
      "metadata": {
        "id": "ce792012"
      },
      "outputs": [],
      "source": [
        "lift_calibration= mba263.lift(data_calibration['churndep'],data_calibration['predchurn'],10)\n",
        "lift_validation= mba263.lift(data_validation['churn'],data_validation['predchurn'],10)"
      ]
    },
    {
      "cell_type": "code",
      "execution_count": null,
      "id": "06c70d26",
      "metadata": {
        "id": "06c70d26",
        "outputId": "0e75d5f1-956a-4ff4-997e-6faa5bc76e2d"
      },
      "outputs": [
        {
          "data": {
            "text/plain": [
              "[<matplotlib.lines.Line2D at 0x7f33fbd87ee0>]"
            ]
          },
          "execution_count": 34,
          "metadata": {},
          "output_type": "execute_result"
        },
        {
          "data": {
            "image/png": "[encoded data removed]",
            "text/plain": [
              "<Figure size 432x288 with 1 Axes>"
            ]
          },
          "metadata": {
            "needs_background": "light"
          },
          "output_type": "display_data"
        }
      ],
      "source": [
        "plt.plot(lift_calibration,'r')\n",
        "plt.plot(lift_validation,'g')"
      ]
    },
    {
      "cell_type": "code",
      "execution_count": null,
      "id": "e4b61141",
      "metadata": {
        "id": "e4b61141"
      },
      "outputs": [],
      "source": [
        "#lift for different alpha (alpha=5)"
      ]
    },
    {
      "cell_type": "code",
      "execution_count": null,
      "id": "e90610f8",
      "metadata": {
        "id": "e90610f8"
      },
      "outputs": [],
      "source": [
        "data_validation['predchurn5']=res_logit5.predict(data_validation[varlist])"
      ]
    },
    {
      "cell_type": "code",
      "execution_count": null,
      "id": "36039702",
      "metadata": {
        "id": "36039702"
      },
      "outputs": [],
      "source": [
        "lift_calibration5= mba263.lift(data_calibration['churndep'],data_calibration['predchurn5'],10)\n",
        "lift_validation5= mba263.lift(data_validation['churn'],data_validation['predchurn5'],10)"
      ]
    },
    {
      "cell_type": "code",
      "execution_count": null,
      "id": "38ccd9f0",
      "metadata": {
        "id": "38ccd9f0",
        "outputId": "37770113-7379-4347-ec6d-9fcee7b121df"
      },
      "outputs": [
        {
          "data": {
            "text/plain": [
              "[<matplotlib.lines.Line2D at 0x7f4f6e6e2d60>]"
            ]
          },
          "execution_count": 92,
          "metadata": {},
          "output_type": "execute_result"
        },
        {
          "data": {
            "image/png": "[encoded data removed]",
            "text/plain": [
              "<Figure size 432x288 with 1 Axes>"
            ]
          },
          "metadata": {
            "needs_background": "light"
          },
          "output_type": "display_data"
        }
      ],
      "source": [
        "plt.plot(lift_calibration5,'r')\n",
        "plt.plot(lift_validation5,'g')"
      ]
    },
    {
      "cell_type": "code",
      "execution_count": null,
      "id": "9ec54a2d",
      "metadata": {
        "id": "9ec54a2d"
      },
      "outputs": [],
      "source": [
        "#lift for different alpha (alpha=10)"
      ]
    },
    {
      "cell_type": "code",
      "execution_count": null,
      "id": "2eb4df46",
      "metadata": {
        "id": "2eb4df46"
      },
      "outputs": [],
      "source": [
        "data_validation['predchurn10']=res_logit10.predict(data_validation[varlist])"
      ]
    },
    {
      "cell_type": "code",
      "execution_count": null,
      "id": "899b79de",
      "metadata": {
        "id": "899b79de"
      },
      "outputs": [],
      "source": [
        "lift_calibration10= mba263.lift(data_calibration['churndep'],data_calibration['predchurn10'],10)\n",
        "lift_validation10= mba263.lift(data_validation['churn'],data_validation['predchurn10'],10)"
      ]
    },
    {
      "cell_type": "code",
      "execution_count": null,
      "id": "2dad41c2",
      "metadata": {
        "id": "2dad41c2",
        "outputId": "54d1306f-69e5-4328-8ecd-137d874427a7"
      },
      "outputs": [
        {
          "data": {
            "text/plain": [
              "[<matplotlib.lines.Line2D at 0x7f4f742e2280>]"
            ]
          },
          "execution_count": 96,
          "metadata": {},
          "output_type": "execute_result"
        },
        {
          "data": {
            "image/png": "[encoded data removed]",
            "text/plain": [
              "<Figure size 432x288 with 1 Axes>"
            ]
          },
          "metadata": {
            "needs_background": "light"
          },
          "output_type": "display_data"
        }
      ],
      "source": [
        "plt.plot(lift_calibration10,'r')\n",
        "plt.plot(lift_validation10,'g')"
      ]
    },
    {
      "cell_type": "code",
      "execution_count": null,
      "id": "fe09fc4b",
      "metadata": {
        "id": "fe09fc4b"
      },
      "outputs": [],
      "source": [
        "#lift for different alpha (alpha=15)"
      ]
    },
    {
      "cell_type": "code",
      "execution_count": null,
      "id": "46204e4c",
      "metadata": {
        "id": "46204e4c"
      },
      "outputs": [],
      "source": [
        "data_validation['predchurn15']=res_logit15.predict(data_validation[varlist])"
      ]
    },
    {
      "cell_type": "code",
      "execution_count": null,
      "id": "d193d6e4",
      "metadata": {
        "id": "d193d6e4"
      },
      "outputs": [],
      "source": [
        "lift_calibration15= mba263.lift(data_calibration['churndep'],data_calibration['predchurn15'],10)\n",
        "lift_validation15= mba263.lift(data_validation['churn'],data_validation['predchurn15'],10)"
      ]
    },
    {
      "cell_type": "code",
      "execution_count": null,
      "id": "f84ddab6",
      "metadata": {
        "id": "f84ddab6",
        "outputId": "6d9fcdac-bafe-457d-9699-fcf60a9fe568"
      },
      "outputs": [
        {
          "data": {
            "text/plain": [
              "[<matplotlib.lines.Line2D at 0x7f4f68366880>]"
            ]
          },
          "execution_count": 100,
          "metadata": {},
          "output_type": "execute_result"
        },
        {
          "data": {
            "image/png": "[encoded data removed]",
            "text/plain": [
              "<Figure size 432x288 with 1 Axes>"
            ]
          },
          "metadata": {
            "needs_background": "light"
          },
          "output_type": "display_data"
        }
      ],
      "source": [
        "plt.plot(lift_calibration15,'r')\n",
        "plt.plot(lift_validation15,'g')"
      ]
    },
    {
      "cell_type": "code",
      "execution_count": null,
      "id": "6d9bf875",
      "metadata": {
        "id": "6d9bf875"
      },
      "outputs": [],
      "source": [
        "#lift for different alpha (alpha=20)"
      ]
    },
    {
      "cell_type": "code",
      "execution_count": null,
      "id": "b84624ba",
      "metadata": {
        "id": "b84624ba"
      },
      "outputs": [],
      "source": [
        "data_validation['predchurn20']=res_logit20.predict(data_validation[varlist])"
      ]
    },
    {
      "cell_type": "code",
      "execution_count": null,
      "id": "57469012",
      "metadata": {
        "id": "57469012"
      },
      "outputs": [],
      "source": [
        "lift_calibration20= mba263.lift(data_calibration['churndep'],data_calibration['predchurn20'],10)\n",
        "lift_validation20= mba263.lift(data_validation['churn'],data_validation['predchurn20'],10)"
      ]
    },
    {
      "cell_type": "code",
      "execution_count": null,
      "id": "46965c8a",
      "metadata": {
        "id": "46965c8a",
        "outputId": "c993e78c-f222-4eb1-d06f-f0ef69dfe2c2"
      },
      "outputs": [
        {
          "data": {
            "text/plain": [
              "[<matplotlib.lines.Line2D at 0x7f4f698bfd90>]"
            ]
          },
          "execution_count": 104,
          "metadata": {},
          "output_type": "execute_result"
        },
        {
          "data": {
            "image/png": "[encoded data removed]",
            "text/plain": [
              "<Figure size 432x288 with 1 Axes>"
            ]
          },
          "metadata": {
            "needs_background": "light"
          },
          "output_type": "display_data"
        }
      ],
      "source": [
        "plt.plot(lift_calibration20,'r')\n",
        "plt.plot(lift_validation20,'g')"
      ]
    },
    {
      "cell_type": "code",
      "execution_count": null,
      "id": "f6fcad6e",
      "metadata": {
        "id": "f6fcad6e"
      },
      "outputs": [],
      "source": [
        "#lift for different alpha (alpha=25)"
      ]
    },
    {
      "cell_type": "code",
      "execution_count": null,
      "id": "5a54a40d",
      "metadata": {
        "id": "5a54a40d"
      },
      "outputs": [],
      "source": [
        "data_validation['predchurn25']=res_logit25.predict(data_validation[varlist])"
      ]
    },
    {
      "cell_type": "code",
      "execution_count": null,
      "id": "8988fb1b",
      "metadata": {
        "id": "8988fb1b"
      },
      "outputs": [],
      "source": [
        "lift_calibration25= mba263.lift(data_calibration['churndep'],data_calibration['predchurn25'],10)\n",
        "lift_validation25= mba263.lift(data_validation['churn'],data_validation['predchurn25'],10)"
      ]
    },
    {
      "cell_type": "code",
      "execution_count": null,
      "id": "07633cb8",
      "metadata": {
        "id": "07633cb8",
        "outputId": "998637e7-6296-427b-c7a3-c5421b7614c9"
      },
      "outputs": [
        {
          "data": {
            "text/plain": [
              "[<matplotlib.lines.Line2D at 0x7f4f77b59400>]"
            ]
          },
          "execution_count": 108,
          "metadata": {},
          "output_type": "execute_result"
        },
        {
          "data": {
            "image/png": "[encoded data removed]",
            "text/plain": [
              "<Figure size 432x288 with 1 Axes>"
            ]
          },
          "metadata": {
            "needs_background": "light"
          },
          "output_type": "display_data"
        }
      ],
      "source": [
        "plt.plot(lift_calibration25,'r')\n",
        "plt.plot(lift_validation25,'g')"
      ]
    },
    {
      "cell_type": "code",
      "execution_count": null,
      "id": "35ab4f77",
      "metadata": {
        "id": "35ab4f77"
      },
      "outputs": [],
      "source": [
        "#lift for different alpha (alpha=35)"
      ]
    },
    {
      "cell_type": "code",
      "execution_count": null,
      "id": "3c62b674",
      "metadata": {
        "id": "3c62b674"
      },
      "outputs": [],
      "source": [
        "data_validation['predchurn35']=res_logit35.predict(data_validation[varlist])"
      ]
    },
    {
      "cell_type": "code",
      "execution_count": null,
      "id": "b73a6b61",
      "metadata": {
        "id": "b73a6b61"
      },
      "outputs": [],
      "source": [
        "lift_calibration35= mba263.lift(data_calibration['churndep'],data_calibration['predchurn35'],10)\n",
        "lift_validation35= mba263.lift(data_validation['churn'],data_validation['predchurn35'],10)"
      ]
    },
    {
      "cell_type": "code",
      "execution_count": null,
      "id": "05fd64ce",
      "metadata": {
        "id": "05fd64ce",
        "outputId": "311e9871-bc2e-4904-de22-9267245a9f83"
      },
      "outputs": [
        {
          "data": {
            "text/plain": [
              "[<matplotlib.lines.Line2D at 0x7f4f77b39fa0>]"
            ]
          },
          "execution_count": 112,
          "metadata": {},
          "output_type": "execute_result"
        },
        {
          "data": {
            "image/png": "[encoded data removed]",
            "text/plain": [
              "<Figure size 432x288 with 1 Axes>"
            ]
          },
          "metadata": {
            "needs_background": "light"
          },
          "output_type": "display_data"
        }
      ],
      "source": [
        "plt.plot(lift_calibration35,'r')\n",
        "plt.plot(lift_validation35,'g')"
      ]
    },
    {
      "cell_type": "code",
      "execution_count": null,
      "id": "22448dc3",
      "metadata": {
        "id": "22448dc3"
      },
      "outputs": [],
      "source": [
        "#lift for different alpha (alpha=40)"
      ]
    },
    {
      "cell_type": "code",
      "execution_count": null,
      "id": "9b85769b",
      "metadata": {
        "id": "9b85769b"
      },
      "outputs": [],
      "source": [
        "data_validation['predchurn40']=res_logit40.predict(data_validation[varlist])"
      ]
    },
    {
      "cell_type": "code",
      "execution_count": null,
      "id": "be067236",
      "metadata": {
        "id": "be067236"
      },
      "outputs": [],
      "source": [
        "lift_calibration40= mba263.lift(data_calibration['churndep'],data_calibration['predchurn40'],10)\n",
        "lift_validation40= mba263.lift(data_validation['churn'],data_validation['predchurn40'],10)"
      ]
    },
    {
      "cell_type": "code",
      "execution_count": null,
      "id": "3a71cab8",
      "metadata": {
        "id": "3a71cab8",
        "outputId": "10d7140b-2fbe-4bd5-a5ba-b9a40586de6a"
      },
      "outputs": [
        {
          "data": {
            "text/plain": [
              "[<matplotlib.lines.Line2D at 0x7f4f778a7490>]"
            ]
          },
          "execution_count": 116,
          "metadata": {},
          "output_type": "execute_result"
        },
        {
          "data": {
            "image/png": "[encoded data removed]",
            "text/plain": [
              "<Figure size 432x288 with 1 Axes>"
            ]
          },
          "metadata": {
            "needs_background": "light"
          },
          "output_type": "display_data"
        }
      ],
      "source": [
        "plt.plot(lift_calibration40,'r')\n",
        "plt.plot(lift_validation40,'g')"
      ]
    },
    {
      "cell_type": "code",
      "execution_count": null,
      "id": "7fcc0dea",
      "metadata": {
        "id": "7fcc0dea"
      },
      "outputs": [],
      "source": [
        "#lift for different alpha (alpha=50)"
      ]
    },
    {
      "cell_type": "code",
      "execution_count": null,
      "id": "f87e899f",
      "metadata": {
        "id": "f87e899f"
      },
      "outputs": [],
      "source": [
        "data_validation['predchurn50']=res_logit50.predict(data_validation[varlist])"
      ]
    },
    {
      "cell_type": "code",
      "execution_count": null,
      "id": "55205dc4",
      "metadata": {
        "id": "55205dc4"
      },
      "outputs": [],
      "source": [
        "lift_calibration50= mba263.lift(data_calibration['churndep'],data_calibration['predchurn50'],10)\n",
        "lift_validation50= mba263.lift(data_validation['churn'],data_validation['predchurn50'],10)"
      ]
    },
    {
      "cell_type": "code",
      "execution_count": null,
      "id": "63c2a633",
      "metadata": {
        "id": "63c2a633",
        "outputId": "1d271d7c-4e21-4b1a-afc5-fad7fe123449"
      },
      "outputs": [
        {
          "data": {
            "text/plain": [
              "[<matplotlib.lines.Line2D at 0x7f4f776d50a0>]"
            ]
          },
          "execution_count": 120,
          "metadata": {},
          "output_type": "execute_result"
        },
        {
          "data": {
            "image/png": "[encoded data removed]",
            "text/plain": [
              "<Figure size 432x288 with 1 Axes>"
            ]
          },
          "metadata": {
            "needs_background": "light"
          },
          "output_type": "display_data"
        }
      ],
      "source": [
        "plt.plot(lift_calibration50,'r')\n",
        "plt.plot(lift_validation50,'g')"
      ]
    },
    {
      "cell_type": "code",
      "execution_count": null,
      "id": "4773236e",
      "metadata": {
        "id": "4773236e"
      },
      "outputs": [],
      "source": [
        "#Determine and rank the economic importance of the predictor variables"
      ]
    },
    {
      "cell_type": "code",
      "execution_count": null,
      "id": "63f470c7",
      "metadata": {
        "id": "63f470c7",
        "outputId": "90ec67c4-20b9-46c0-a9b4-80b88b54fe02"
      },
      "outputs": [
        {
          "data": {
            "text/html": [
              "<div>\n",
              "<style scoped>\n",
              "    .dataframe tbody tr th:only-of-type {\n",
              "        vertical-align: middle;\n",
              "    }\n",
              "\n",
              "    .dataframe tbody tr th {\n",
              "        vertical-align: top;\n",
              "    }\n",
              "\n",
              "    .dataframe thead th {\n",
              "        text-align: right;\n",
              "    }\n",
              "</style>\n",
              "<table border=\"1\" class=\"dataframe\">\n",
              "  <thead>\n",
              "    <tr style=\"text-align: right;\">\n",
              "      <th></th>\n",
              "      <th>Odds ratios</th>\n",
              "      <th>std err</th>\n",
              "      <th>z</th>\n",
              "      <th>P&gt;|z|</th>\n",
              "      <th>[0.025</th>\n",
              "      <th>0.975]</th>\n",
              "    </tr>\n",
              "  </thead>\n",
              "  <tbody>\n",
              "    <tr>\n",
              "      <th>revenue</th>\n",
              "      <td>1.001944</td>\n",
              "      <td>0.000797</td>\n",
              "      <td>2.438198</td>\n",
              "      <td>0.015</td>\n",
              "      <td>1.000397</td>\n",
              "      <td>1.003492</td>\n",
              "    </tr>\n",
              "    <tr>\n",
              "      <th>mou</th>\n",
              "      <td>0.999718</td>\n",
              "      <td>0.000049</td>\n",
              "      <td>5.698443</td>\n",
              "      <td>0.000</td>\n",
              "      <td>0.999622</td>\n",
              "      <td>0.999814</td>\n",
              "    </tr>\n",
              "    <tr>\n",
              "      <th>recchrge</th>\n",
              "      <td>0.996892</td>\n",
              "      <td>0.000875</td>\n",
              "      <td>3.550479</td>\n",
              "      <td>0.000</td>\n",
              "      <td>0.995194</td>\n",
              "      <td>0.998590</td>\n",
              "    </tr>\n",
              "    <tr>\n",
              "      <th>directas</th>\n",
              "      <td>0.999015</td>\n",
              "      <td>0.005907</td>\n",
              "      <td>0.166788</td>\n",
              "      <td>0.868</td>\n",
              "      <td>0.987556</td>\n",
              "      <td>1.010474</td>\n",
              "    </tr>\n",
              "    <tr>\n",
              "      <th>overage</th>\n",
              "      <td>1.000769</td>\n",
              "      <td>0.000280</td>\n",
              "      <td>2.747227</td>\n",
              "      <td>0.006</td>\n",
              "      <td>1.000226</td>\n",
              "      <td>1.001313</td>\n",
              "    </tr>\n",
              "    <tr>\n",
              "      <th>...</th>\n",
              "      <td>...</td>\n",
              "      <td>...</td>\n",
              "      <td>...</td>\n",
              "      <td>...</td>\n",
              "      <td>...</td>\n",
              "      <td>...</td>\n",
              "    </tr>\n",
              "    <tr>\n",
              "      <th>income</th>\n",
              "      <td>0.994096</td>\n",
              "      <td>0.005117</td>\n",
              "      <td>1.153835</td>\n",
              "      <td>0.249</td>\n",
              "      <td>0.984170</td>\n",
              "      <td>1.004023</td>\n",
              "    </tr>\n",
              "    <tr>\n",
              "      <th>mcycle</th>\n",
              "      <td>1.000000</td>\n",
              "      <td>NaN</td>\n",
              "      <td>NaN</td>\n",
              "      <td>NaN</td>\n",
              "      <td>NaN</td>\n",
              "      <td>NaN</td>\n",
              "    </tr>\n",
              "    <tr>\n",
              "      <th>setprcm</th>\n",
              "      <td>0.955745</td>\n",
              "      <td>0.033798</td>\n",
              "      <td>1.309391</td>\n",
              "      <td>0.190</td>\n",
              "      <td>0.890177</td>\n",
              "      <td>1.021313</td>\n",
              "    </tr>\n",
              "    <tr>\n",
              "      <th>setprc</th>\n",
              "      <td>1.000879</td>\n",
              "      <td>0.000270</td>\n",
              "      <td>3.259847</td>\n",
              "      <td>0.001</td>\n",
              "      <td>1.000356</td>\n",
              "      <td>1.001402</td>\n",
              "    </tr>\n",
              "    <tr>\n",
              "      <th>retcall</th>\n",
              "      <td>1.893728</td>\n",
              "      <td>0.365932</td>\n",
              "      <td>2.442336</td>\n",
              "      <td>0.015</td>\n",
              "      <td>1.183821</td>\n",
              "      <td>2.603635</td>\n",
              "    </tr>\n",
              "  </tbody>\n",
              "</table>\n",
              "<p>66 rows × 6 columns</p>\n",
              "</div>"
            ],
            "text/plain": [
              "          Odds ratios   std err         z  P>|z|    [0.025    0.975]\n",
              "revenue      1.001944  0.000797  2.438198  0.015  1.000397  1.003492\n",
              "mou          0.999718  0.000049  5.698443  0.000  0.999622  0.999814\n",
              "recchrge     0.996892  0.000875  3.550479  0.000  0.995194  0.998590\n",
              "directas     0.999015  0.005907  0.166788  0.868  0.987556  1.010474\n",
              "overage      1.000769  0.000280  2.747227  0.006  1.000226  1.001313\n",
              "...               ...       ...       ...    ...       ...       ...\n",
              "income       0.994096  0.005117  1.153835  0.249  0.984170  1.004023\n",
              "mcycle       1.000000       NaN       NaN    NaN       NaN       NaN\n",
              "setprcm      0.955745  0.033798  1.309391  0.190  0.890177  1.021313\n",
              "setprc       1.000879  0.000270  3.259847  0.001  1.000356  1.001402\n",
              "retcall      1.893728  0.365932  2.442336  0.015  1.183821  2.603635\n",
              "\n",
              "[66 rows x 6 columns]"
            ]
          },
          "execution_count": 42,
          "metadata": {},
          "output_type": "execute_result"
        }
      ],
      "source": [
        "mba263.odds_ratios(res_logit30)"
      ]
    },
    {
      "cell_type": "code",
      "execution_count": null,
      "id": "ce266178",
      "metadata": {
        "id": "ce266178",
        "outputId": "2a8658ad-e831-4167-a535-890716b0faef"
      },
      "outputs": [
        {
          "data": {
            "text/plain": [
              "revenue      44.372524\n",
              "mou         536.601264\n",
              "recchrge     24.149383\n",
              "directas      2.348869\n",
              "overage      93.803961\n",
              "               ...    \n",
              "income        3.127723\n",
              "mcycle        0.112496\n",
              "setprcm       0.497041\n",
              "setprc       57.561782\n",
              "retcall       0.158540\n",
              "Length: 66, dtype: float64"
            ]
          },
          "execution_count": 43,
          "metadata": {},
          "output_type": "execute_result"
        }
      ],
      "source": [
        "x_std=data_validation[varlist].std()\n",
        "x_std"
      ]
    },
    {
      "cell_type": "code",
      "execution_count": null,
      "id": "aa8f96e9",
      "metadata": {
        "id": "aa8f96e9",
        "outputId": "b5ea9da3-f40e-419d-dc6a-53155a0f8956"
      },
      "outputs": [
        {
          "data": {
            "text/plain": [
              "revenue      44.372524\n",
              "mou         536.601264\n",
              "recchrge     24.149383\n",
              "directas      2.348869\n",
              "overage      93.803961\n",
              "               ...    \n",
              "income        3.127723\n",
              "mcycle        0.112496\n",
              "setprcm       0.497041\n",
              "setprc       57.561782\n",
              "retcall       0.158540\n",
              "Length: 66, dtype: float64"
            ]
          },
          "execution_count": 44,
          "metadata": {},
          "output_type": "execute_result"
        }
      ],
      "source": [
        "x_std.head(66)"
      ]
    },
    {
      "cell_type": "code",
      "execution_count": null,
      "id": "6318973b",
      "metadata": {
        "id": "6318973b",
        "outputId": "f913a708-1ba2-42d6-a09b-39ba896007fc"
      },
      "outputs": [
        {
          "data": {
            "text/plain": [
              "revenue     1.001944\n",
              "mou         0.999718\n",
              "recchrge    0.996892\n",
              "directas    0.999015\n",
              "overage     1.000769\n",
              "              ...   \n",
              "income      0.994096\n",
              "mcycle      1.000000\n",
              "setprcm     0.955745\n",
              "setprc      1.000879\n",
              "retcall     1.893728\n",
              "Name: Odds ratios, Length: 66, dtype: float64"
            ]
          },
          "execution_count": 45,
          "metadata": {},
          "output_type": "execute_result"
        }
      ],
      "source": [
        "odds_ratios=mba263.odds_ratios(res_logit30)['Odds ratios']\n",
        "odds_ratios"
      ]
    },
    {
      "cell_type": "code",
      "execution_count": null,
      "id": "b11298f9",
      "metadata": {
        "id": "b11298f9",
        "outputId": "313e2f81-ecfc-42f0-a5e3-50d4b9d16656"
      },
      "outputs": [
        {
          "data": {
            "text/plain": [
              "revenue     1.090020\n",
              "mou         0.859661\n",
              "recchrge    0.927593\n",
              "directas    0.997688\n",
              "overage     1.074815\n",
              "              ...   \n",
              "income      0.981650\n",
              "mcycle      1.000000\n",
              "setprcm     0.977753\n",
              "setprc      1.051869\n",
              "retcall     1.106537\n",
              "Length: 66, dtype: float64"
            ]
          },
          "execution_count": 46,
          "metadata": {},
          "output_type": "execute_result"
        }
      ],
      "source": [
        "normalized_odds_ratios=numpy.power(odds_ratios,x_std)\n",
        "normalized_odds_ratios"
      ]
    },
    {
      "cell_type": "code",
      "execution_count": null,
      "id": "4c75ac49",
      "metadata": {
        "id": "4c75ac49"
      },
      "outputs": [],
      "source": [
        "normalized_odds_ratios[normalized_odds_ratios<1]=1/normalized_odds_ratios[normalized_odds_ratios<1]"
      ]
    },
    {
      "cell_type": "code",
      "execution_count": null,
      "id": "8ca6513a",
      "metadata": {
        "id": "8ca6513a",
        "outputId": "91956c6e-04f2-425e-d4c9-be88b6609d2c"
      },
      "outputs": [
        {
          "data": {
            "text/plain": [
              "eqpdays     1.422264\n",
              "months      1.213187\n",
              "mou         1.163249\n",
              "uniqsubs    1.148901\n",
              "changem     1.130822\n",
              "              ...   \n",
              "ownrent     1.000000\n",
              "occself     1.000000\n",
              "occret      1.000000\n",
              "occhmkr     1.000000\n",
              "mailflag    1.000000\n",
              "Length: 66, dtype: float64"
            ]
          },
          "execution_count": 48,
          "metadata": {},
          "output_type": "execute_result"
        }
      ],
      "source": [
        "normalized_odds_ratios.sort_values(ascending=False)"
      ]
    },
    {
      "cell_type": "code",
      "execution_count": null,
      "id": "32dda51e",
      "metadata": {
        "id": "32dda51e",
        "outputId": "5c7db105-1658-4e24-d1b6-ab335bfaea6d"
      },
      "outputs": [
        {
          "data": {
            "text/plain": [
              "eqpdays     1.422264\n",
              "months      1.213187\n",
              "mou         1.163249\n",
              "uniqsubs    1.148901\n",
              "changem     1.130822\n",
              "              ...   \n",
              "ownrent     1.000000\n",
              "occself     1.000000\n",
              "occret      1.000000\n",
              "occhmkr     1.000000\n",
              "mailflag    1.000000\n",
              "Length: 66, dtype: float64"
            ]
          },
          "execution_count": 49,
          "metadata": {},
          "output_type": "execute_result"
        }
      ],
      "source": [
        "normalized_odds_ratios.sort_values(ascending=False).head(66)"
      ]
    },
    {
      "cell_type": "code",
      "execution_count": null,
      "id": "aff1d0d1",
      "metadata": {
        "id": "aff1d0d1",
        "outputId": "3b4d9b1b-96cc-46ca-dbb6-ce8376e15935"
      },
      "outputs": [
        {
          "data": {
            "text/plain": [
              "eqpdays     1.422264\n",
              "months      1.213187\n",
              "mou         1.163249\n",
              "uniqsubs    1.148901\n",
              "changem     1.130822\n",
              "creditaa    1.115781\n",
              "actvsubs    1.110315\n",
              "retcall     1.106537\n",
              "revenue     1.090020\n",
              "changer     1.089781\n",
              "dtype: float64"
            ]
          },
          "execution_count": 60,
          "metadata": {},
          "output_type": "execute_result"
        }
      ],
      "source": [
        "normalized_odds_ratios.sort_values(ascending=False).head(10)"
      ]
    },
    {
      "cell_type": "code",
      "execution_count": null,
      "id": "1b6bb884",
      "metadata": {
        "id": "1b6bb884"
      },
      "outputs": [],
      "source": [
        "normalized_odds_ratios.sort_values(ascending=False).to_csv('cell2cell_normalized.csv')"
      ]
    },
    {
      "cell_type": "code",
      "execution_count": null,
      "id": "06743ff8",
      "metadata": {
        "id": "06743ff8"
      },
      "outputs": [],
      "source": [
        "normalized_odds_ratios.to_csv('cell2cell_normalized_original_order.csv')"
      ]
    },
    {
      "cell_type": "markdown",
      "id": "9df0b279",
      "metadata": {
        "id": "9df0b279"
      },
      "source": [
        "#predictor variables that we deem important based on normalized odds ratios:\n",
        "eqpdays     1.422264\n",
        "months      1.213187\n",
        "mou         1.163249\n",
        "uniqsubs    1.148901\n",
        "changem     1.130822\n",
        "creditaa    1.115781\n",
        "actvsubs    1.110315"
      ]
    },
    {
      "cell_type": "code",
      "execution_count": null,
      "id": "39a1ddf8",
      "metadata": {
        "id": "39a1ddf8"
      },
      "outputs": [],
      "source": [
        "odds_ratios_df = mba263.odds_ratios(res_logit30)"
      ]
    },
    {
      "cell_type": "code",
      "execution_count": null,
      "id": "ca289a69",
      "metadata": {
        "id": "ca289a69"
      },
      "outputs": [],
      "source": [
        "odds_ratios_df.to_csv('cell2cell_odds_ratios.csv')"
      ]
    },
    {
      "cell_type": "code",
      "execution_count": null,
      "id": "c44fac1b",
      "metadata": {
        "id": "c44fac1b"
      },
      "outputs": [],
      "source": [
        "#calculating odds ratio using std calculated using data_calibration"
      ]
    },
    {
      "cell_type": "code",
      "execution_count": null,
      "id": "5673671d",
      "metadata": {
        "id": "5673671d",
        "outputId": "b17c5049-2582-4f6f-c112-f0ece313899b"
      },
      "outputs": [
        {
          "data": {
            "text/plain": [
              "revenue      44.142432\n",
              "mou         524.759890\n",
              "recchrge     23.714145\n",
              "directas      2.072555\n",
              "overage      98.272111\n",
              "               ...    \n",
              "income        3.144329\n",
              "mcycle        0.117285\n",
              "setprcm       0.494208\n",
              "setprc       56.620460\n",
              "retcall       0.196956\n",
              "Length: 66, dtype: float64"
            ]
          },
          "execution_count": 51,
          "metadata": {},
          "output_type": "execute_result"
        }
      ],
      "source": [
        "x_std_calibration=data_calibration[varlist].std()\n",
        "x_std_calibration"
      ]
    },
    {
      "cell_type": "code",
      "execution_count": null,
      "id": "64286f09",
      "metadata": {
        "id": "64286f09",
        "outputId": "1c860378-7da1-4d54-c865-8a2a594f40ac"
      },
      "outputs": [
        {
          "data": {
            "text/plain": [
              "revenue      44.142432\n",
              "mou         524.759890\n",
              "recchrge     23.714145\n",
              "directas      2.072555\n",
              "overage      98.272111\n",
              "               ...    \n",
              "income        3.144329\n",
              "mcycle        0.117285\n",
              "setprcm       0.494208\n",
              "setprc       56.620460\n",
              "retcall       0.196956\n",
              "Length: 66, dtype: float64"
            ]
          },
          "execution_count": 52,
          "metadata": {},
          "output_type": "execute_result"
        }
      ],
      "source": [
        "x_std_calibration.head(66)"
      ]
    },
    {
      "cell_type": "code",
      "execution_count": null,
      "id": "c2ffa309",
      "metadata": {
        "id": "c2ffa309",
        "outputId": "b6fc3fd2-7d0c-40c3-ff55-8dae046c31f3"
      },
      "outputs": [
        {
          "data": {
            "text/plain": [
              "revenue     1.001944\n",
              "mou         0.999718\n",
              "recchrge    0.996892\n",
              "directas    0.999015\n",
              "overage     1.000769\n",
              "              ...   \n",
              "income      0.994096\n",
              "mcycle      1.000000\n",
              "setprcm     0.955745\n",
              "setprc      1.000879\n",
              "retcall     1.893728\n",
              "Name: Odds ratios, Length: 66, dtype: float64"
            ]
          },
          "execution_count": 53,
          "metadata": {},
          "output_type": "execute_result"
        }
      ],
      "source": [
        "odds_ratios=mba263.odds_ratios(res_logit30)['Odds ratios']\n",
        "odds_ratios"
      ]
    },
    {
      "cell_type": "code",
      "execution_count": null,
      "id": "6aa8a7dc",
      "metadata": {
        "id": "6aa8a7dc",
        "outputId": "b16979b3-e3a0-4dee-ddf2-5a1115ed0bfd"
      },
      "outputs": [
        {
          "data": {
            "text/plain": [
              "revenue     1.089533\n",
              "mou         0.862534\n",
              "recchrge    0.928851\n",
              "directas    0.997959\n",
              "overage     1.078515\n",
              "              ...   \n",
              "income      0.981554\n",
              "mcycle      1.000000\n",
              "setprcm     0.977879\n",
              "setprc      1.050999\n",
              "retcall     1.134017\n",
              "Length: 66, dtype: float64"
            ]
          },
          "execution_count": 54,
          "metadata": {},
          "output_type": "execute_result"
        }
      ],
      "source": [
        "normalized_odds_ratios2=numpy.power(odds_ratios,x_std_calibration)\n",
        "normalized_odds_ratios2"
      ]
    },
    {
      "cell_type": "code",
      "execution_count": null,
      "id": "559b6162",
      "metadata": {
        "id": "559b6162"
      },
      "outputs": [],
      "source": [
        "normalized_odds_ratios2[normalized_odds_ratios2<1]=1/normalized_odds_ratios2[normalized_odds_ratios2<1]"
      ]
    },
    {
      "cell_type": "code",
      "execution_count": null,
      "id": "eb89a453",
      "metadata": {
        "id": "eb89a453",
        "outputId": "67bfff7d-1de9-4dfc-f4c8-c38792d722f7"
      },
      "outputs": [
        {
          "data": {
            "text/plain": [
              "eqpdays     1.435340\n",
              "uniqsubs    1.243078\n",
              "months      1.204579\n",
              "mou         1.159374\n",
              "changem     1.136461\n",
              "              ...   \n",
              "occstud     1.000000\n",
              "occcrft     1.000000\n",
              "occcler     1.000000\n",
              "occprof     1.000000\n",
              "rv          1.000000\n",
              "Length: 66, dtype: float64"
            ]
          },
          "execution_count": 56,
          "metadata": {},
          "output_type": "execute_result"
        }
      ],
      "source": [
        "normalized_odds_ratios2.sort_values(ascending=False)"
      ]
    },
    {
      "cell_type": "code",
      "execution_count": null,
      "id": "8bf564fb",
      "metadata": {
        "id": "8bf564fb",
        "outputId": "dd86d5f2-d3dd-4124-8269-4ff19f18b06c"
      },
      "outputs": [
        {
          "data": {
            "text/plain": [
              "eqpdays     1.435340\n",
              "uniqsubs    1.243078\n",
              "months      1.204579\n",
              "mou         1.159374\n",
              "changem     1.136461\n",
              "retcall     1.134017\n",
              "actvsubs    1.121160\n",
              "creditaa    1.106692\n",
              "changer     1.095552\n",
              "revenue     1.089533\n",
              "dtype: float64"
            ]
          },
          "execution_count": 57,
          "metadata": {},
          "output_type": "execute_result"
        }
      ],
      "source": [
        "normalized_odds_ratios2.sort_values(ascending=False).head(10)"
      ]
    },
    {
      "cell_type": "code",
      "execution_count": null,
      "id": "19af06b3",
      "metadata": {
        "id": "19af06b3"
      },
      "outputs": [],
      "source": [
        "normalized_odds_ratios2.sort_values(ascending=False).to_csv('cell2cell_normalized2.csv')"
      ]
    },
    {
      "cell_type": "code",
      "execution_count": null,
      "id": "584d252b",
      "metadata": {
        "id": "584d252b"
      },
      "outputs": [],
      "source": [
        "normalized_odds_ratios2.to_csv('cell2cell_normalized_original_order2.csv')"
      ]
    },
    {
      "cell_type": "code",
      "execution_count": null,
      "id": "8c1bb721",
      "metadata": {
        "id": "8c1bb721"
      },
      "outputs": [],
      "source": [
        "x_std_calibration.to_csv('cell2cell_x_std_calibration.csv')"
      ]
    },
    {
      "cell_type": "code",
      "execution_count": null,
      "id": "0a174c52",
      "metadata": {
        "id": "0a174c52"
      },
      "outputs": [],
      "source": [
        "odds_ratios.to_csv('cell2cell_odds_ratios_updated.csv')"
      ]
    },
    {
      "cell_type": "code",
      "execution_count": null,
      "id": "d3ba0c36",
      "metadata": {
        "id": "d3ba0c36"
      },
      "outputs": [],
      "source": []
    }
  ],
  "metadata": {
    "colab": {
      "provenance": []
    },
    "kernelspec": {
      "display_name": "Python 3 (ipykernel)",
      "language": "python",
      "name": "python3"
    },
    "language_info": {
      "codemirror_mode": {
        "name": "ipython",
        "version": 3
      },
      "file_extension": ".py",
      "mimetype": "text/x-python",
      "name": "python",
      "nbconvert_exporter": "python",
      "pygments_lexer": "ipython3",
      "version": "3.9.7"
    }
  },
  "nbformat": 4,
  "nbformat_minor": 5
}